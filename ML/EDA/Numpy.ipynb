{
 "cells": [
  {
   "cell_type": "code",
   "execution_count": 57,
   "id": "26be3c42-df35-4710-9247-101c8b12e9b9",
   "metadata": {},
   "outputs": [],
   "source": [
    "import numpy as np"
   ]
  },
  {
   "cell_type": "code",
   "execution_count": 58,
   "id": "cea71a8c-fb19-4d7b-a539-25fe6620803e",
   "metadata": {},
   "outputs": [],
   "source": [
    "numlist = [14, 32, 93, 63, 69, 74]"
   ]
  },
  {
   "cell_type": "code",
   "execution_count": 59,
   "id": "d4e3d28c-ec64-426a-a172-e89b84b8a126",
   "metadata": {},
   "outputs": [],
   "source": [
    "numarray = np.array(numlist)"
   ]
  },
  {
   "cell_type": "code",
   "execution_count": 60,
   "id": "d04eefe6-53d6-4e96-a4b2-b8c1f7667388",
   "metadata": {},
   "outputs": [
    {
     "data": {
      "text/plain": [
       "array([14, 32, 93, 63, 69, 74])"
      ]
     },
     "execution_count": 60,
     "metadata": {},
     "output_type": "execute_result"
    }
   ],
   "source": [
    "numarray"
   ]
  },
  {
   "cell_type": "code",
   "execution_count": 61,
   "id": "4ac9719f-3371-4355-af18-82b07948247c",
   "metadata": {},
   "outputs": [
    {
     "data": {
      "text/plain": [
       "6"
      ]
     },
     "execution_count": 61,
     "metadata": {},
     "output_type": "execute_result"
    }
   ],
   "source": [
    "len(numarray)"
   ]
  },
  {
   "cell_type": "code",
   "execution_count": 62,
   "id": "6ba3ae9f-607c-461f-8aba-d4e609fcf82e",
   "metadata": {},
   "outputs": [
    {
     "data": {
      "text/plain": [
       "14"
      ]
     },
     "execution_count": 62,
     "metadata": {},
     "output_type": "execute_result"
    }
   ],
   "source": [
    "numarray[0]"
   ]
  },
  {
   "cell_type": "code",
   "execution_count": 63,
   "id": "c4c48b64-7f97-4a12-b6d2-5e7bae136140",
   "metadata": {},
   "outputs": [
    {
     "data": {
      "text/plain": [
       "69"
      ]
     },
     "execution_count": 63,
     "metadata": {},
     "output_type": "execute_result"
    }
   ],
   "source": [
    "numarray[4]"
   ]
  },
  {
   "cell_type": "code",
   "execution_count": 64,
   "id": "fd1f1c04-c34a-4da6-934b-90cbcc0b56de",
   "metadata": {},
   "outputs": [
    {
     "data": {
      "text/plain": [
       "array([32, 93])"
      ]
     },
     "execution_count": 64,
     "metadata": {},
     "output_type": "execute_result"
    }
   ],
   "source": [
    "numarray[1:3]"
   ]
  },
  {
   "cell_type": "code",
   "execution_count": 65,
   "id": "e0e95db3-1aca-42d2-88b0-90c4147ed849",
   "metadata": {},
   "outputs": [
    {
     "data": {
      "text/plain": [
       "74"
      ]
     },
     "execution_count": 65,
     "metadata": {},
     "output_type": "execute_result"
    }
   ],
   "source": [
    "numarray[-1]"
   ]
  },
  {
   "cell_type": "code",
   "execution_count": 66,
   "id": "be9bf4ca-d8c1-4b7c-a16c-0d83db61259a",
   "metadata": {},
   "outputs": [
    {
     "data": {
      "text/plain": [
       "array([93, 63, 69])"
      ]
     },
     "execution_count": 66,
     "metadata": {},
     "output_type": "execute_result"
    }
   ],
   "source": [
    "numarray[2:-1]"
   ]
  },
  {
   "cell_type": "code",
   "execution_count": 67,
   "id": "82534a55-e484-4944-ae6c-f7f83c10d77e",
   "metadata": {},
   "outputs": [
    {
     "data": {
      "text/plain": [
       "array([74, 63, 32])"
      ]
     },
     "execution_count": 67,
     "metadata": {},
     "output_type": "execute_result"
    }
   ],
   "source": [
    "numarray[::-2]"
   ]
  },
  {
   "cell_type": "code",
   "execution_count": 68,
   "id": "0fc1b506-9938-449d-b4a9-b718477d923d",
   "metadata": {},
   "outputs": [
    {
     "data": {
      "text/plain": [
       "array([ 26,  44, 105,  75,  81,  86])"
      ]
     },
     "execution_count": 68,
     "metadata": {},
     "output_type": "execute_result"
    }
   ],
   "source": [
    "numarray + 12"
   ]
  },
  {
   "cell_type": "code",
   "execution_count": 69,
   "id": "98c1fc09-3954-4828-aa41-989d08b1bed2",
   "metadata": {},
   "outputs": [
    {
     "data": {
      "text/plain": [
       "array([-9,  9, 70, 40, 46, 51])"
      ]
     },
     "execution_count": 69,
     "metadata": {},
     "output_type": "execute_result"
    }
   ],
   "source": [
    "numarray - 23"
   ]
  },
  {
   "cell_type": "code",
   "execution_count": 70,
   "id": "9b4cccfd-64a8-44de-a2cd-1b57062f71e8",
   "metadata": {},
   "outputs": [
    {
     "data": {
      "text/plain": [
       "array([ 70, 160, 465, 315, 345, 370])"
      ]
     },
     "execution_count": 70,
     "metadata": {},
     "output_type": "execute_result"
    }
   ],
   "source": [
    "numarray * 5"
   ]
  },
  {
   "cell_type": "code",
   "execution_count": 71,
   "id": "00111d35-f094-4ebc-b13a-db8b9e0b6c48",
   "metadata": {},
   "outputs": [
    {
     "data": {
      "text/plain": [
       "42"
      ]
     },
     "execution_count": 71,
     "metadata": {},
     "output_type": "execute_result"
    }
   ],
   "source": [
    "numarray[0]*3"
   ]
  },
  {
   "cell_type": "code",
   "execution_count": 72,
   "id": "f5d389bb-7e0a-4502-aefb-391619010bf7",
   "metadata": {},
   "outputs": [
    {
     "data": {
      "text/plain": [
       "345"
      ]
     },
     "execution_count": 72,
     "metadata": {},
     "output_type": "execute_result"
    }
   ],
   "source": [
    "np.sum(numarray)"
   ]
  },
  {
   "cell_type": "code",
   "execution_count": 73,
   "id": "986d2718-c685-46c0-a2d8-d55c552167ee",
   "metadata": {},
   "outputs": [
    {
     "data": {
      "text/plain": [
       "57.5"
      ]
     },
     "execution_count": 73,
     "metadata": {},
     "output_type": "execute_result"
    }
   ],
   "source": [
    "np.mean(numarray)"
   ]
  },
  {
   "cell_type": "code",
   "execution_count": 74,
   "id": "c9907d33-58b8-4f1c-bb48-f06e9b880185",
   "metadata": {},
   "outputs": [
    {
     "data": {
      "text/plain": [
       "93"
      ]
     },
     "execution_count": 74,
     "metadata": {},
     "output_type": "execute_result"
    }
   ],
   "source": [
    "np.max(numarray)"
   ]
  },
  {
   "cell_type": "code",
   "execution_count": 75,
   "id": "2a7f2ceb-0a16-4dda-ae9a-d5d786ef69d5",
   "metadata": {},
   "outputs": [],
   "source": [
    "numarray_radian = numarray*np.pi/180.0"
   ]
  },
  {
   "cell_type": "code",
   "execution_count": 76,
   "id": "529a1008-f575-4cf7-bf57-256261cdf722",
   "metadata": {},
   "outputs": [
    {
     "data": {
      "text/plain": [
       "array([0.2443461 , 0.55850536, 1.6231562 , 1.09955743, 1.20427718,\n",
       "       1.29154365])"
      ]
     },
     "execution_count": 76,
     "metadata": {},
     "output_type": "execute_result"
    }
   ],
   "source": [
    "numarray_radian"
   ]
  },
  {
   "cell_type": "code",
   "execution_count": 77,
   "id": "0e81423b-ee7d-4e66-a3d6-cb8337e49712",
   "metadata": {},
   "outputs": [
    {
     "data": {
      "text/plain": [
       "array([0.2419219 , 0.52991926, 0.99862953, 0.89100652, 0.93358043,\n",
       "       0.9612617 ])"
      ]
     },
     "execution_count": 77,
     "metadata": {},
     "output_type": "execute_result"
    }
   ],
   "source": [
    "np.sin(numarray_radian)"
   ]
  },
  {
   "cell_type": "code",
   "execution_count": 78,
   "id": "a2bce4c6-aaab-4c13-acae-9bdd8ce30451",
   "metadata": {},
   "outputs": [
    {
     "data": {
      "text/plain": [
       "array([ 0.97029573,  0.8480481 , -0.05233596,  0.4539905 ,  0.35836795,\n",
       "        0.27563736])"
      ]
     },
     "execution_count": 78,
     "metadata": {},
     "output_type": "execute_result"
    }
   ],
   "source": [
    "np.cos(numarray_radian)"
   ]
  },
  {
   "cell_type": "code",
   "execution_count": 79,
   "id": "49c96103-477e-4b57-ae69-397b8ded49b6",
   "metadata": {},
   "outputs": [
    {
     "data": {
      "text/plain": [
       "array([  0.249328  ,   0.62486935, -19.08113669,   1.96261051,\n",
       "         2.60508906,   3.48741444])"
      ]
     },
     "execution_count": 79,
     "metadata": {},
     "output_type": "execute_result"
    }
   ],
   "source": [
    "np.tan(numarray_radian)"
   ]
  },
  {
   "cell_type": "code",
   "execution_count": 80,
   "id": "1c100632-f705-4585-98ee-aaa4e4f67d3c",
   "metadata": {},
   "outputs": [
    {
     "name": "stderr",
     "output_type": "stream",
     "text": [
      "/tmp/ipykernel_9564/4216322707.py:1: RuntimeWarning: invalid value encountered in arcsin\n",
      "  np.arcsin(numarray_radian)\n"
     ]
    },
    {
     "data": {
      "text/plain": [
       "array([0.24684529, 0.59258285,        nan,        nan,        nan,\n",
       "              nan])"
      ]
     },
     "execution_count": 80,
     "metadata": {},
     "output_type": "execute_result"
    }
   ],
   "source": [
    "np.arcsin(numarray_radian)"
   ]
  },
  {
   "cell_type": "code",
   "execution_count": 81,
   "id": "a35b36f4-ec6c-49a9-aef3-0388fcd56a24",
   "metadata": {},
   "outputs": [
    {
     "name": "stderr",
     "output_type": "stream",
     "text": [
      "/tmp/ipykernel_9564/520491689.py:1: RuntimeWarning: invalid value encountered in arccos\n",
      "  np.arccos(numarray_radian)\n"
     ]
    },
    {
     "data": {
      "text/plain": [
       "array([1.32395104, 0.97821348,        nan,        nan,        nan,\n",
       "              nan])"
      ]
     },
     "execution_count": 81,
     "metadata": {},
     "output_type": "execute_result"
    }
   ],
   "source": [
    "np.arccos(numarray_radian)"
   ]
  },
  {
   "cell_type": "code",
   "execution_count": 82,
   "id": "73e926f2-49db-4b5f-9028-94fd74c324f4",
   "metadata": {},
   "outputs": [
    {
     "data": {
      "text/plain": [
       "array([0.2396503 , 0.50934978, 1.01863448, 0.83278096, 0.87780731,\n",
       "       0.91194419])"
      ]
     },
     "execution_count": 82,
     "metadata": {},
     "output_type": "execute_result"
    }
   ],
   "source": [
    "np.arctan(numarray_radian)"
   ]
  },
  {
   "cell_type": "code",
   "execution_count": 83,
   "id": "cf23d30a-e739-4714-bbf8-ed6c5cbc7356",
   "metadata": {},
   "outputs": [],
   "source": [
    "numarray2 = np.array([31, 12, 87, 9, 61, 42])"
   ]
  },
  {
   "cell_type": "code",
   "execution_count": 84,
   "id": "50b364c8-9e18-44ff-98f7-c30dd3739ed0",
   "metadata": {},
   "outputs": [
    {
     "data": {
      "text/plain": [
       "array([ 45,  44, 180,  72, 130, 116])"
      ]
     },
     "execution_count": 84,
     "metadata": {},
     "output_type": "execute_result"
    }
   ],
   "source": [
    "numarray + numarray2"
   ]
  },
  {
   "cell_type": "code",
   "execution_count": 85,
   "id": "297c5151-2712-448b-85a4-4a1458850899",
   "metadata": {},
   "outputs": [
    {
     "data": {
      "text/plain": [
       "array([ 434,  384, 8091,  567, 4209, 3108])"
      ]
     },
     "execution_count": 85,
     "metadata": {},
     "output_type": "execute_result"
    }
   ],
   "source": [
    "numarray*numarray2"
   ]
  },
  {
   "cell_type": "code",
   "execution_count": null,
   "id": "202e8eeb-aa87-4736-9fce-499c26dea294",
   "metadata": {},
   "outputs": [],
   "source": []
  },
  {
   "cell_type": "code",
   "execution_count": 86,
   "id": "14f142eb-b869-4e31-924d-660df1a5576b",
   "metadata": {},
   "outputs": [
    {
     "data": {
      "text/plain": [
       "array([14, 32, 93, 63, 69, 74, 31, 12, 87,  9, 61, 42])"
      ]
     },
     "execution_count": 86,
     "metadata": {},
     "output_type": "execute_result"
    }
   ],
   "source": [
    "np.concatenate((numarray, numarray2))"
   ]
  },
  {
   "cell_type": "code",
   "execution_count": 87,
   "id": "4b10b439-fe65-4c8c-8101-a8fb3e0da5bf",
   "metadata": {},
   "outputs": [],
   "source": [
    "numarray2d = np.array((numarray, numarray2))"
   ]
  },
  {
   "cell_type": "code",
   "execution_count": 181,
   "id": "19089756-d2d6-4e67-88ff-7b203117ffe0",
   "metadata": {},
   "outputs": [
    {
     "data": {
      "text/plain": [
       "array([[14, 32, 93, 63, 69, 74],\n",
       "       [31, 12, 87,  9, 61, 42]])"
      ]
     },
     "execution_count": 181,
     "metadata": {},
     "output_type": "execute_result"
    }
   ],
   "source": [
    "numarray2d"
   ]
  },
  {
   "cell_type": "code",
   "execution_count": 182,
   "id": "b340f141-8243-4eb6-9b23-8c69aa540da6",
   "metadata": {},
   "outputs": [
    {
     "ename": "ValueError",
     "evalue": "operands could not be broadcast together with shapes (2,6) (1,2) ",
     "output_type": "error",
     "traceback": [
      "\u001b[0;31m---------------------------------------------------------------------------\u001b[0m",
      "\u001b[0;31mValueError\u001b[0m                                Traceback (most recent call last)",
      "Cell \u001b[0;32mIn[182], line 1\u001b[0m\n\u001b[0;32m----> 1\u001b[0m \u001b[43mnumarray2d\u001b[49m\u001b[43m \u001b[49m\u001b[38;5;241;43m+\u001b[39;49m\u001b[43m \u001b[49m\u001b[43mnp\u001b[49m\u001b[38;5;241;43m.\u001b[39;49m\u001b[43marray\u001b[49m\u001b[43m(\u001b[49m\u001b[43m[\u001b[49m\u001b[43m[\u001b[49m\u001b[38;5;241;43m1\u001b[39;49m\u001b[43m,\u001b[49m\u001b[43m \u001b[49m\u001b[38;5;241;43m2\u001b[39;49m\u001b[43m]\u001b[49m\u001b[43m]\u001b[49m\u001b[43m)\u001b[49m\n",
      "\u001b[0;31mValueError\u001b[0m: operands could not be broadcast together with shapes (2,6) (1,2) "
     ]
    }
   ],
   "source": [
    "numarray2d + np.array([[1, 2]])"
   ]
  },
  {
   "cell_type": "code",
   "execution_count": 89,
   "id": "86d90581-e013-4b29-b0ff-17bfe0b13080",
   "metadata": {},
   "outputs": [
    {
     "data": {
      "text/plain": [
       "1"
      ]
     },
     "execution_count": 89,
     "metadata": {},
     "output_type": "execute_result"
    }
   ],
   "source": [
    "numarray.ndim"
   ]
  },
  {
   "cell_type": "code",
   "execution_count": 90,
   "id": "4530d4d0-68a0-42b2-b82d-0aaa2756f836",
   "metadata": {},
   "outputs": [
    {
     "data": {
      "text/plain": [
       "1"
      ]
     },
     "execution_count": 90,
     "metadata": {},
     "output_type": "execute_result"
    }
   ],
   "source": [
    "numarray2.ndim"
   ]
  },
  {
   "cell_type": "code",
   "execution_count": 91,
   "id": "e8a5c99f-b68c-48c0-840f-98b68c4b8b07",
   "metadata": {},
   "outputs": [
    {
     "data": {
      "text/plain": [
       "2"
      ]
     },
     "execution_count": 91,
     "metadata": {},
     "output_type": "execute_result"
    }
   ],
   "source": [
    "numarray2d.ndim"
   ]
  },
  {
   "cell_type": "code",
   "execution_count": 92,
   "id": "5bcca7ce-e2c1-4454-954c-3914a5b061ed",
   "metadata": {},
   "outputs": [
    {
     "data": {
      "text/plain": [
       "(6,)"
      ]
     },
     "execution_count": 92,
     "metadata": {},
     "output_type": "execute_result"
    }
   ],
   "source": [
    "numarray.shape"
   ]
  },
  {
   "cell_type": "code",
   "execution_count": 93,
   "id": "d536d857-062c-4996-a7c5-0ef3c4e69060",
   "metadata": {},
   "outputs": [
    {
     "data": {
      "text/plain": [
       "6"
      ]
     },
     "execution_count": 93,
     "metadata": {},
     "output_type": "execute_result"
    }
   ],
   "source": [
    "numarray2d.shape[1]"
   ]
  },
  {
   "cell_type": "code",
   "execution_count": 94,
   "id": "514bc64c-0d1e-4b7a-a7bc-a707ea695a91",
   "metadata": {},
   "outputs": [
    {
     "data": {
      "text/plain": [
       "63"
      ]
     },
     "execution_count": 94,
     "metadata": {},
     "output_type": "execute_result"
    }
   ],
   "source": [
    "numarray2d[0,3]"
   ]
  },
  {
   "cell_type": "code",
   "execution_count": 95,
   "id": "f9cca5fe-8124-4df0-95ca-fb2a6c7f473c",
   "metadata": {},
   "outputs": [
    {
     "data": {
      "text/plain": [
       "61"
      ]
     },
     "execution_count": 95,
     "metadata": {},
     "output_type": "execute_result"
    }
   ],
   "source": [
    "numarray2d[1, 4]"
   ]
  },
  {
   "cell_type": "code",
   "execution_count": 96,
   "id": "e4910e6f-fc0b-4851-83fc-2cdeff6d1ff0",
   "metadata": {},
   "outputs": [
    {
     "data": {
      "text/plain": [
       "74"
      ]
     },
     "execution_count": 96,
     "metadata": {},
     "output_type": "execute_result"
    }
   ],
   "source": [
    "numarray2d[0, 5]"
   ]
  },
  {
   "cell_type": "code",
   "execution_count": 97,
   "id": "389907c2-0d40-4102-a8c4-8bfdd2b43c93",
   "metadata": {},
   "outputs": [
    {
     "data": {
      "text/plain": [
       "array([[93],\n",
       "       [87]])"
      ]
     },
     "execution_count": 97,
     "metadata": {},
     "output_type": "execute_result"
    }
   ],
   "source": [
    "numarray2d[0:2, 2:3]"
   ]
  },
  {
   "cell_type": "code",
   "execution_count": 98,
   "id": "41823a6e-eb85-485b-8c08-a6f7be67b80b",
   "metadata": {},
   "outputs": [],
   "source": [
    "numarray3 = np.array([[4, 1, 19, 22, 88, 34]])"
   ]
  },
  {
   "cell_type": "code",
   "execution_count": 99,
   "id": "602df7c8-73f3-442c-9db1-3548d4c2f5c5",
   "metadata": {},
   "outputs": [],
   "source": [
    "a = np.concatenate((numarray2d, numarray3), axis = 0)"
   ]
  },
  {
   "cell_type": "code",
   "execution_count": 100,
   "id": "d2f62256-f011-43b9-8681-76b3cbdb4541",
   "metadata": {},
   "outputs": [
    {
     "data": {
      "text/plain": [
       "2"
      ]
     },
     "execution_count": 100,
     "metadata": {},
     "output_type": "execute_result"
    }
   ],
   "source": [
    "numarray3.ndim"
   ]
  },
  {
   "cell_type": "code",
   "execution_count": 101,
   "id": "ceecdff2-f43f-44e3-b9cb-ec3c70b5d716",
   "metadata": {},
   "outputs": [
    {
     "data": {
      "text/plain": [
       "array([[14, 32, 93, 63, 69, 74],\n",
       "       [31, 12, 87,  9, 61, 42]])"
      ]
     },
     "execution_count": 101,
     "metadata": {},
     "output_type": "execute_result"
    }
   ],
   "source": [
    "numarray2d"
   ]
  },
  {
   "cell_type": "code",
   "execution_count": 102,
   "id": "e1a7c750-a67e-4710-97e7-dde4d6fffd42",
   "metadata": {},
   "outputs": [
    {
     "data": {
      "text/plain": [
       "array([[14, 32, 93, 63, 69, 74],\n",
       "       [31, 12, 87,  9, 61, 42],\n",
       "       [ 4,  1, 19, 22, 88, 34]])"
      ]
     },
     "execution_count": 102,
     "metadata": {},
     "output_type": "execute_result"
    }
   ],
   "source": [
    "a"
   ]
  },
  {
   "cell_type": "code",
   "execution_count": 103,
   "id": "c653b25f-599f-41cf-8bdf-081a1e3cab9a",
   "metadata": {},
   "outputs": [],
   "source": [
    "numarray4 = np.array([[4, 1]])"
   ]
  },
  {
   "cell_type": "code",
   "execution_count": 104,
   "id": "f55cf35b-b8a3-44ea-9836-4282191d0b2f",
   "metadata": {},
   "outputs": [
    {
     "data": {
      "text/plain": [
       "array([[14, 32, 93, 63, 69, 74,  4],\n",
       "       [31, 12, 87,  9, 61, 42,  1]])"
      ]
     },
     "execution_count": 104,
     "metadata": {},
     "output_type": "execute_result"
    }
   ],
   "source": [
    "np.concatenate((numarray2d, numarray4.T), axis = 1)"
   ]
  },
  {
   "cell_type": "code",
   "execution_count": 105,
   "id": "dec77327-d496-4ae8-9b0d-eb59583045e8",
   "metadata": {},
   "outputs": [],
   "source": [
    "b = numarray.reshape(2, 3)"
   ]
  },
  {
   "cell_type": "code",
   "execution_count": 106,
   "id": "6bd4361c-3c0a-4440-9b43-e56878052c6b",
   "metadata": {},
   "outputs": [
    {
     "data": {
      "text/plain": [
       "array([[14, 32, 93],\n",
       "       [63, 69, 74]])"
      ]
     },
     "execution_count": 106,
     "metadata": {},
     "output_type": "execute_result"
    }
   ],
   "source": [
    "b"
   ]
  },
  {
   "cell_type": "code",
   "execution_count": 107,
   "id": "2ad396cf-167a-47fa-b301-189016f632f7",
   "metadata": {},
   "outputs": [
    {
     "data": {
      "text/plain": [
       "array([[ 4,  1, 19, 22, 88, 34]])"
      ]
     },
     "execution_count": 107,
     "metadata": {},
     "output_type": "execute_result"
    }
   ],
   "source": [
    "numarray3"
   ]
  },
  {
   "cell_type": "code",
   "execution_count": 108,
   "id": "77cf909f-c63e-4b52-9249-6eeb04a9f87f",
   "metadata": {},
   "outputs": [
    {
     "data": {
      "text/plain": [
       "array([[ 4,  1],\n",
       "       [19, 22],\n",
       "       [88, 34]])"
      ]
     },
     "execution_count": 108,
     "metadata": {},
     "output_type": "execute_result"
    }
   ],
   "source": [
    "numarray3.reshape(3, 2)"
   ]
  },
  {
   "cell_type": "code",
   "execution_count": 109,
   "id": "e298a4a6-30f1-4a00-9e32-3dc731d2102c",
   "metadata": {},
   "outputs": [
    {
     "data": {
      "text/plain": [
       "array([[ 4],\n",
       "       [ 1],\n",
       "       [19],\n",
       "       [22],\n",
       "       [88],\n",
       "       [34]])"
      ]
     },
     "execution_count": 109,
     "metadata": {},
     "output_type": "execute_result"
    }
   ],
   "source": [
    "numarray3.reshape(6, 1)"
   ]
  },
  {
   "cell_type": "code",
   "execution_count": 110,
   "id": "a1cc46ca-e81e-472a-9a48-a108c11c6044",
   "metadata": {},
   "outputs": [
    {
     "data": {
      "text/plain": [
       "array([[ 4,  1, 19, 22, 88, 34]])"
      ]
     },
     "execution_count": 110,
     "metadata": {},
     "output_type": "execute_result"
    }
   ],
   "source": [
    "numarray3.reshape(1, 6)"
   ]
  },
  {
   "cell_type": "code",
   "execution_count": 111,
   "id": "f0c885eb-dd25-44fe-bb06-c336b8ae8440",
   "metadata": {},
   "outputs": [
    {
     "data": {
      "text/plain": [
       "array([[ 4,  1],\n",
       "       [19, 22],\n",
       "       [88, 34]])"
      ]
     },
     "execution_count": 111,
     "metadata": {},
     "output_type": "execute_result"
    }
   ],
   "source": [
    "numarray3 = np.array([[4, 1, 19, 22, 88, 34]])\n",
    "numarray3.reshape(3, -1)"
   ]
  },
  {
   "cell_type": "code",
   "execution_count": 112,
   "id": "d699004a-0c1d-4f93-9665-f4b7c1a8a553",
   "metadata": {},
   "outputs": [],
   "source": [
    "# numarray3.reshape(4, -1)"
   ]
  },
  {
   "cell_type": "code",
   "execution_count": 113,
   "id": "a367f9a7-4647-493d-9a8d-d1135692f75b",
   "metadata": {},
   "outputs": [
    {
     "data": {
      "text/plain": [
       "array([[14, 32, 93, 63],\n",
       "       [69, 74, 31, 12],\n",
       "       [87,  9, 61, 42]])"
      ]
     },
     "execution_count": 113,
     "metadata": {},
     "output_type": "execute_result"
    }
   ],
   "source": [
    "numarray2d.reshape(3, -1)"
   ]
  },
  {
   "cell_type": "code",
   "execution_count": 114,
   "id": "8e25b158-d1d8-4e4d-b418-6f4d689c961f",
   "metadata": {},
   "outputs": [
    {
     "ename": "ValueError",
     "evalue": "cannot reshape array of size 12 into shape (5,newaxis)",
     "output_type": "error",
     "traceback": [
      "\u001b[0;31m---------------------------------------------------------------------------\u001b[0m",
      "\u001b[0;31mValueError\u001b[0m                                Traceback (most recent call last)",
      "Cell \u001b[0;32mIn[114], line 1\u001b[0m\n\u001b[0;32m----> 1\u001b[0m \u001b[43mnumarray2d\u001b[49m\u001b[38;5;241;43m.\u001b[39;49m\u001b[43mreshape\u001b[49m\u001b[43m(\u001b[49m\u001b[38;5;241;43m5\u001b[39;49m\u001b[43m,\u001b[49m\u001b[43m \u001b[49m\u001b[38;5;241;43m-\u001b[39;49m\u001b[38;5;241;43m1\u001b[39;49m\u001b[43m)\u001b[49m\n",
      "\u001b[0;31mValueError\u001b[0m: cannot reshape array of size 12 into shape (5,newaxis)"
     ]
    }
   ],
   "source": [
    "numarray2d.reshape(5, -1)"
   ]
  },
  {
   "cell_type": "code",
   "execution_count": 115,
   "id": "f1c1762f-62e6-4487-b46f-a3ad638f09b5",
   "metadata": {},
   "outputs": [
    {
     "data": {
      "text/plain": [
       "93"
      ]
     },
     "execution_count": 115,
     "metadata": {},
     "output_type": "execute_result"
    }
   ],
   "source": [
    "numarray2d.max()"
   ]
  },
  {
   "cell_type": "code",
   "execution_count": 116,
   "id": "5b0b0a19-2b1d-483e-988a-320657c505ce",
   "metadata": {},
   "outputs": [
    {
     "data": {
      "text/plain": [
       "9"
      ]
     },
     "execution_count": 116,
     "metadata": {},
     "output_type": "execute_result"
    }
   ],
   "source": [
    "numarray2d.min()"
   ]
  },
  {
   "cell_type": "code",
   "execution_count": 117,
   "id": "9b0ec5ad-8970-462f-886b-acb102352b98",
   "metadata": {},
   "outputs": [
    {
     "data": {
      "text/plain": [
       "48.916666666666664"
      ]
     },
     "execution_count": 117,
     "metadata": {},
     "output_type": "execute_result"
    }
   ],
   "source": [
    "numarray2d.mean()"
   ]
  },
  {
   "cell_type": "code",
   "execution_count": 118,
   "id": "3638b589-807c-40fd-beb6-f85f91ed0ef3",
   "metadata": {},
   "outputs": [
    {
     "data": {
      "text/plain": [
       "28.285621592761384"
      ]
     },
     "execution_count": 118,
     "metadata": {},
     "output_type": "execute_result"
    }
   ],
   "source": [
    "numarray2d.std()"
   ]
  },
  {
   "cell_type": "code",
   "execution_count": 119,
   "id": "fdc4b8f6-fe59-4249-bfd8-5cd1feadccc5",
   "metadata": {},
   "outputs": [
    {
     "ename": "AttributeError",
     "evalue": "'numpy.ndarray' object has no attribute 'nunique'",
     "output_type": "error",
     "traceback": [
      "\u001b[0;31m---------------------------------------------------------------------------\u001b[0m",
      "\u001b[0;31mAttributeError\u001b[0m                            Traceback (most recent call last)",
      "Cell \u001b[0;32mIn[119], line 1\u001b[0m\n\u001b[0;32m----> 1\u001b[0m \u001b[43mnumarray2d\u001b[49m\u001b[38;5;241;43m.\u001b[39;49m\u001b[43mnunique\u001b[49m()\n",
      "\u001b[0;31mAttributeError\u001b[0m: 'numpy.ndarray' object has no attribute 'nunique'"
     ]
    }
   ],
   "source": [
    "numarray2d.nunique()"
   ]
  },
  {
   "cell_type": "code",
   "execution_count": 120,
   "id": "b0767d23-e56d-4499-9a41-6caca3b21c95",
   "metadata": {},
   "outputs": [
    {
     "data": {
      "text/plain": [
       "93"
      ]
     },
     "execution_count": 120,
     "metadata": {},
     "output_type": "execute_result"
    }
   ],
   "source": [
    "np.max(numarray2d)"
   ]
  },
  {
   "cell_type": "code",
   "execution_count": 123,
   "id": "63d9c4d3-a3d2-4669-ade6-5e1e814ff4a2",
   "metadata": {},
   "outputs": [
    {
     "data": {
      "text/plain": [
       "array([31, 32, 93, 63, 69, 74])"
      ]
     },
     "execution_count": 123,
     "metadata": {},
     "output_type": "execute_result"
    }
   ],
   "source": [
    "np.max(numarray2d, axis = 0) # Maximum value of each column"
   ]
  },
  {
   "cell_type": "code",
   "execution_count": 124,
   "id": "798c3430-e0d5-436e-9860-49a9bd98b189",
   "metadata": {},
   "outputs": [
    {
     "data": {
      "text/plain": [
       "array([[14, 32, 93, 63, 69, 74],\n",
       "       [31, 12, 87,  9, 61, 42]])"
      ]
     },
     "execution_count": 124,
     "metadata": {},
     "output_type": "execute_result"
    }
   ],
   "source": [
    "numarray2d"
   ]
  },
  {
   "cell_type": "code",
   "execution_count": 125,
   "id": "64be456d-ae8f-488c-9f87-a102e45b6cef",
   "metadata": {},
   "outputs": [
    {
     "data": {
      "text/plain": [
       "array([93, 87])"
      ]
     },
     "execution_count": 125,
     "metadata": {},
     "output_type": "execute_result"
    }
   ],
   "source": [
    "np.max(numarray2d, axis = 1) # Maximum value of each row"
   ]
  },
  {
   "cell_type": "code",
   "execution_count": 126,
   "id": "e07135af-2fa9-491e-96bf-7b02575815f8",
   "metadata": {},
   "outputs": [
    {
     "data": {
      "text/plain": [
       "(array([2]),)"
      ]
     },
     "execution_count": 126,
     "metadata": {},
     "output_type": "execute_result"
    }
   ],
   "source": [
    "np.where(numarray == 93)"
   ]
  },
  {
   "cell_type": "code",
   "execution_count": 127,
   "id": "ea253075-f4f5-433f-acfc-bc5946e0ce4e",
   "metadata": {},
   "outputs": [
    {
     "data": {
      "text/plain": [
       "(array([0]), array([2]))"
      ]
     },
     "execution_count": 127,
     "metadata": {},
     "output_type": "execute_result"
    }
   ],
   "source": [
    "np.where(numarray2d == 93)"
   ]
  },
  {
   "cell_type": "code",
   "execution_count": 128,
   "id": "17097037-efe6-409b-ac50-02feae41770c",
   "metadata": {},
   "outputs": [
    {
     "data": {
      "text/plain": [
       "array([14, 32, 63, 69, 74, 93])"
      ]
     },
     "execution_count": 128,
     "metadata": {},
     "output_type": "execute_result"
    }
   ],
   "source": [
    "np.sort(numarray)"
   ]
  },
  {
   "cell_type": "code",
   "execution_count": 129,
   "id": "e1fff0e7-71ab-459f-91e7-1f9c8a387aef",
   "metadata": {},
   "outputs": [
    {
     "data": {
      "text/plain": [
       "array([[14, 12, 87,  9, 61, 42],\n",
       "       [31, 32, 93, 63, 69, 74]])"
      ]
     },
     "execution_count": 129,
     "metadata": {},
     "output_type": "execute_result"
    }
   ],
   "source": [
    "np.sort(numarray2d, axis = 0) # Sort the column "
   ]
  },
  {
   "cell_type": "code",
   "execution_count": 130,
   "id": "c24d5a7f-80ed-432b-8a5a-88a69cbaea66",
   "metadata": {},
   "outputs": [
    {
     "data": {
      "text/plain": [
       "array([[14, 32, 63, 69, 74, 93],\n",
       "       [ 9, 12, 31, 42, 61, 87]])"
      ]
     },
     "execution_count": 130,
     "metadata": {},
     "output_type": "execute_result"
    }
   ],
   "source": [
    "np.sort(numarray2d, axis = 1) # Sort the row"
   ]
  },
  {
   "cell_type": "code",
   "execution_count": 131,
   "id": "0becdd19-05a7-41ed-b273-ab61088742aa",
   "metadata": {},
   "outputs": [
    {
     "data": {
      "text/plain": [
       "array([93, 63, 69, 74])"
      ]
     },
     "execution_count": 131,
     "metadata": {},
     "output_type": "execute_result"
    }
   ],
   "source": [
    "numarray[numarray > 50]"
   ]
  },
  {
   "cell_type": "code",
   "execution_count": 132,
   "id": "0c6d27d0-b415-417a-83b9-344386ec578c",
   "metadata": {},
   "outputs": [
    {
     "data": {
      "text/plain": [
       "array([93, 63, 69, 74, 87, 61])"
      ]
     },
     "execution_count": 132,
     "metadata": {},
     "output_type": "execute_result"
    }
   ],
   "source": [
    "numarray2d[numarray2d > 50]"
   ]
  },
  {
   "cell_type": "code",
   "execution_count": 133,
   "id": "150ce0aa-ff11-4be2-8f5e-a8857ceb8074",
   "metadata": {},
   "outputs": [
    {
     "data": {
      "text/plain": [
       "array([0.        , 0.22222222, 0.44444444, 0.66666667, 0.88888889,\n",
       "       1.11111111, 1.33333333, 1.55555556, 1.77777778, 2.        ])"
      ]
     },
     "execution_count": 133,
     "metadata": {},
     "output_type": "execute_result"
    }
   ],
   "source": [
    "np.linspace(0, 2, 10) # (start, stop, num)"
   ]
  },
  {
   "cell_type": "code",
   "execution_count": 183,
   "id": "23fc43f9-e493-4664-ac89-d1d8bfeba5f8",
   "metadata": {},
   "outputs": [
    {
     "data": {
      "text/plain": [
       "3.2222222222222223"
      ]
     },
     "execution_count": 183,
     "metadata": {},
     "output_type": "execute_result"
    }
   ],
   "source": [
    "linarray = np.linspace(1, 6, 10)\n",
    "linarray[4]"
   ]
  },
  {
   "cell_type": "code",
   "execution_count": 135,
   "id": "fe65407a-c514-4f29-a009-a783ada3e5b0",
   "metadata": {},
   "outputs": [
    {
     "data": {
      "text/plain": [
       "array([0, 2, 4, 6, 8])"
      ]
     },
     "execution_count": 135,
     "metadata": {},
     "output_type": "execute_result"
    }
   ],
   "source": [
    "np.arange(0, 10, 2) # (start, stop, step)"
   ]
  },
  {
   "cell_type": "code",
   "execution_count": 136,
   "id": "5a089d87-41f8-452b-9365-6bc275ac5736",
   "metadata": {},
   "outputs": [
    {
     "data": {
      "text/plain": [
       "array([ 4,  7, 10, 13, 16, 19])"
      ]
     },
     "execution_count": 136,
     "metadata": {},
     "output_type": "execute_result"
    }
   ],
   "source": [
    "np.arange(4, 20, 3)"
   ]
  },
  {
   "cell_type": "code",
   "execution_count": 137,
   "id": "892da63c-c380-490f-ba49-04fe53d10f6c",
   "metadata": {},
   "outputs": [
    {
     "data": {
      "text/plain": [
       "array([0., 0., 0., 0., 0.])"
      ]
     },
     "execution_count": 137,
     "metadata": {},
     "output_type": "execute_result"
    }
   ],
   "source": [
    "np.zeros(5)"
   ]
  },
  {
   "cell_type": "code",
   "execution_count": 138,
   "id": "11ac3d23-37c0-42ad-86dd-95f0eba73ec0",
   "metadata": {},
   "outputs": [
    {
     "data": {
      "text/plain": [
       "array([[0., 0., 0.],\n",
       "       [0., 0., 0.]])"
      ]
     },
     "execution_count": 138,
     "metadata": {},
     "output_type": "execute_result"
    }
   ],
   "source": [
    "np.zeros((2, 3))"
   ]
  },
  {
   "cell_type": "code",
   "execution_count": 139,
   "id": "21ce1469-d92a-4808-b096-65226ac9c53e",
   "metadata": {},
   "outputs": [
    {
     "data": {
      "text/plain": [
       "array([1., 1., 1., 1., 1., 1.])"
      ]
     },
     "execution_count": 139,
     "metadata": {},
     "output_type": "execute_result"
    }
   ],
   "source": [
    "np.ones(6)"
   ]
  },
  {
   "cell_type": "code",
   "execution_count": 143,
   "id": "55aff602-5561-4638-8b8e-8b1736628238",
   "metadata": {},
   "outputs": [
    {
     "data": {
      "text/plain": [
       "array([[1., 1.],\n",
       "       [1., 1.],\n",
       "       [1., 1.],\n",
       "       [1., 1.]])"
      ]
     },
     "execution_count": 143,
     "metadata": {},
     "output_type": "execute_result"
    }
   ],
   "source": [
    "np.ones((4, 2))"
   ]
  },
  {
   "cell_type": "code",
   "execution_count": 155,
   "id": "b772adf1-1f5c-418b-bf92-5c393aba2442",
   "metadata": {},
   "outputs": [],
   "source": [
    "numarray5 = np.array([[1, 2, 3, 4, 5, 6]])"
   ]
  },
  {
   "cell_type": "code",
   "execution_count": 156,
   "id": "3868e475-15c7-42cb-8073-a98a35bed1cb",
   "metadata": {},
   "outputs": [
    {
     "data": {
      "text/plain": [
       "array([[15, 34, 96, 67, 74, 80],\n",
       "       [32, 14, 90, 13, 66, 48]])"
      ]
     },
     "execution_count": 156,
     "metadata": {},
     "output_type": "execute_result"
    }
   ],
   "source": [
    "numarray2d + numarray5"
   ]
  },
  {
   "cell_type": "code",
   "execution_count": 157,
   "id": "54ee4557-a9b9-43df-b0d9-3f7487da5234",
   "metadata": {},
   "outputs": [],
   "source": [
    "numarray5 = np.array([[1, 2]])"
   ]
  },
  {
   "cell_type": "code",
   "execution_count": 158,
   "id": "29fb4984-7e7a-43cf-82a3-5a333e5a203f",
   "metadata": {},
   "outputs": [
    {
     "data": {
      "text/plain": [
       "array([[15, 33, 94, 64, 70, 75],\n",
       "       [33, 14, 89, 11, 63, 44]])"
      ]
     },
     "execution_count": 158,
     "metadata": {},
     "output_type": "execute_result"
    }
   ],
   "source": [
    "numarray2d + numarray5.T"
   ]
  },
  {
   "cell_type": "code",
   "execution_count": 159,
   "id": "f06c55aa-0ff5-4dfa-afda-573464529c36",
   "metadata": {},
   "outputs": [
    {
     "ename": "ValueError",
     "evalue": "operands could not be broadcast together with shapes (2,6) (1,2) ",
     "output_type": "error",
     "traceback": [
      "\u001b[0;31m---------------------------------------------------------------------------\u001b[0m",
      "\u001b[0;31mValueError\u001b[0m                                Traceback (most recent call last)",
      "Cell \u001b[0;32mIn[159], line 1\u001b[0m\n\u001b[0;32m----> 1\u001b[0m \u001b[43mnumarray2d\u001b[49m\u001b[43m \u001b[49m\u001b[38;5;241;43m+\u001b[39;49m\u001b[43m \u001b[49m\u001b[43mnumarray5\u001b[49m\n",
      "\u001b[0;31mValueError\u001b[0m: operands could not be broadcast together with shapes (2,6) (1,2) "
     ]
    }
   ],
   "source": [
    "numarray2d + numarray5"
   ]
  },
  {
   "cell_type": "code",
   "execution_count": 160,
   "id": "b81cc539-51e6-41df-aef1-e75af6b08425",
   "metadata": {},
   "outputs": [
    {
     "data": {
      "text/plain": [
       "array([ 434,  384, 8091,  567, 4209, 3108])"
      ]
     },
     "execution_count": 160,
     "metadata": {},
     "output_type": "execute_result"
    }
   ],
   "source": [
    "numarray * numarray2 # Element by Element Multiplication"
   ]
  },
  {
   "cell_type": "code",
   "execution_count": 161,
   "id": "ed8685f5-bf9f-4650-a10d-4be3e01f7b20",
   "metadata": {},
   "outputs": [
    {
     "data": {
      "text/plain": [
       "16793"
      ]
     },
     "execution_count": 161,
     "metadata": {},
     "output_type": "execute_result"
    }
   ],
   "source": [
    "np.dot(numarray, numarray2) # dot product of two 1d array(vectors)"
   ]
  },
  {
   "cell_type": "code",
   "execution_count": 162,
   "id": "106f1dc0-3830-4af4-8266-b7b21abdcad6",
   "metadata": {},
   "outputs": [
    {
     "data": {
      "text/plain": [
       "16793"
      ]
     },
     "execution_count": 162,
     "metadata": {},
     "output_type": "execute_result"
    }
   ],
   "source": [
    "numarray@numarray2"
   ]
  },
  {
   "cell_type": "code",
   "execution_count": 163,
   "id": "ea4bfab8-8483-4cb7-9a46-f8c5431333fd",
   "metadata": {},
   "outputs": [
    {
     "data": {
      "text/plain": [
       "array([[14, 32, 93, 63, 69, 74],\n",
       "       [31, 12, 87,  9, 61, 42]])"
      ]
     },
     "execution_count": 163,
     "metadata": {},
     "output_type": "execute_result"
    }
   ],
   "source": [
    "numarray2d"
   ]
  },
  {
   "cell_type": "code",
   "execution_count": 164,
   "id": "7096922c-1cde-46fd-a045-bd0e2f196b55",
   "metadata": {},
   "outputs": [],
   "source": [
    "numarray6 = np.array([2, 3])"
   ]
  },
  {
   "cell_type": "code",
   "execution_count": 168,
   "id": "77dfae32-1fbb-4cb8-b3bc-5f64a1f00841",
   "metadata": {},
   "outputs": [
    {
     "data": {
      "text/plain": [
       "array([121, 100, 447, 153, 321, 274])"
      ]
     },
     "execution_count": 168,
     "metadata": {},
     "output_type": "execute_result"
    }
   ],
   "source": [
    "np.matmul(numarray2d.T, numarray6)"
   ]
  },
  {
   "cell_type": "code",
   "execution_count": 169,
   "id": "62c1f166-57c1-4b26-853a-6a10566d4d0f",
   "metadata": {},
   "outputs": [
    {
     "data": {
      "text/plain": [
       "array([121, 100, 447, 153, 321, 274])"
      ]
     },
     "execution_count": 169,
     "metadata": {},
     "output_type": "execute_result"
    }
   ],
   "source": [
    "np.dot(numarray2d.T, numarray6)"
   ]
  },
  {
   "cell_type": "code",
   "execution_count": 170,
   "id": "0772eef2-eeba-435b-b856-9dd7645c6d9a",
   "metadata": {},
   "outputs": [
    {
     "data": {
      "text/plain": [
       "array([121, 100, 447, 153, 321, 274])"
      ]
     },
     "execution_count": 170,
     "metadata": {},
     "output_type": "execute_result"
    }
   ],
   "source": [
    "numarray2d.T@numarray6"
   ]
  },
  {
   "cell_type": "code",
   "execution_count": 171,
   "id": "f74d8377-e696-445f-b62e-4fa04842fda8",
   "metadata": {},
   "outputs": [
    {
     "data": {
      "text/plain": [
       "array([[ 28,  93],\n",
       "       [ 64,  36],\n",
       "       [186, 261],\n",
       "       [126,  27],\n",
       "       [138, 183],\n",
       "       [148, 126]])"
      ]
     },
     "execution_count": 171,
     "metadata": {},
     "output_type": "execute_result"
    }
   ],
   "source": [
    "numarray2d.T*numarray6"
   ]
  },
  {
   "cell_type": "code",
   "execution_count": 172,
   "id": "f2383e0a-d05d-407c-b02b-537cef114032",
   "metadata": {},
   "outputs": [
    {
     "data": {
      "text/plain": [
       "array([14, 32, 93, 63, 69, 74, 31, 12, 87,  9, 61, 42])"
      ]
     },
     "execution_count": 172,
     "metadata": {},
     "output_type": "execute_result"
    }
   ],
   "source": [
    "np.ndarray.flatten(numarray2d)"
   ]
  },
  {
   "cell_type": "code",
   "execution_count": 173,
   "id": "5d0932e8-a34c-4479-bacb-fbeac207bd9b",
   "metadata": {},
   "outputs": [
    {
     "data": {
      "text/plain": [
       "array([[14, 32, 93, 63, 69, 74, 31, 12, 87,  9, 61, 42]])"
      ]
     },
     "execution_count": 173,
     "metadata": {},
     "output_type": "execute_result"
    }
   ],
   "source": [
    "numarray2d.reshape(1, -1)"
   ]
  },
  {
   "cell_type": "code",
   "execution_count": 174,
   "id": "7811494f-8463-4b33-a6a1-b0c6239c4b0d",
   "metadata": {},
   "outputs": [
    {
     "data": {
      "text/plain": [
       "array([[14, 32, 93, 63, 69, 74, 31, 12, 87,  9, 61, 42]])"
      ]
     },
     "execution_count": 174,
     "metadata": {},
     "output_type": "execute_result"
    }
   ],
   "source": [
    "numarray2d.reshape(1, -6)#why ?"
   ]
  },
  {
   "cell_type": "code",
   "execution_count": 175,
   "id": "4b36ad64-2fb4-4c9a-ae3d-9bc3dd53adbf",
   "metadata": {},
   "outputs": [
    {
     "data": {
      "text/plain": [
       "array([[14],\n",
       "       [32],\n",
       "       [93],\n",
       "       [63],\n",
       "       [69],\n",
       "       [74],\n",
       "       [31],\n",
       "       [12],\n",
       "       [87],\n",
       "       [ 9],\n",
       "       [61],\n",
       "       [42]])"
      ]
     },
     "execution_count": 175,
     "metadata": {},
     "output_type": "execute_result"
    }
   ],
   "source": [
    "numarray2d.reshape(-1, 1)"
   ]
  },
  {
   "cell_type": "code",
   "execution_count": 176,
   "id": "c4814e53-1821-4301-8220-7c01997b46ce",
   "metadata": {},
   "outputs": [
    {
     "ename": "ValueError",
     "evalue": "cannot reshape array of size 12 into shape (1,1)",
     "output_type": "error",
     "traceback": [
      "\u001b[0;31m---------------------------------------------------------------------------\u001b[0m",
      "\u001b[0;31mValueError\u001b[0m                                Traceback (most recent call last)",
      "Cell \u001b[0;32mIn[176], line 1\u001b[0m\n\u001b[0;32m----> 1\u001b[0m \u001b[43mnumarray2d\u001b[49m\u001b[38;5;241;43m.\u001b[39;49m\u001b[43mreshape\u001b[49m\u001b[43m(\u001b[49m\u001b[38;5;241;43m1\u001b[39;49m\u001b[43m,\u001b[49m\u001b[43m \u001b[49m\u001b[38;5;241;43m1\u001b[39;49m\u001b[43m)\u001b[49m\n",
      "\u001b[0;31mValueError\u001b[0m: cannot reshape array of size 12 into shape (1,1)"
     ]
    }
   ],
   "source": [
    "numarray2d.reshape(1, 1)"
   ]
  },
  {
   "cell_type": "code",
   "execution_count": 177,
   "id": "ff6b3949-5720-4223-8ccb-311fed0cf1aa",
   "metadata": {},
   "outputs": [
    {
     "data": {
      "text/plain": [
       "array([0.32407909, 0.64093355, 0.87269144, 0.47847271, 0.25619524,\n",
       "       0.56199837])"
      ]
     },
     "execution_count": 177,
     "metadata": {},
     "output_type": "execute_result"
    }
   ],
   "source": [
    "np.random.rand(6) #Randomly chosen from the interval (0, 1)"
   ]
  },
  {
   "cell_type": "code",
   "execution_count": 178,
   "id": "76d74bb8-8368-440e-aa01-1b497f634723",
   "metadata": {},
   "outputs": [
    {
     "data": {
      "text/plain": [
       "array([[0.974993  , 0.5238114 , 0.59599502, 0.8792438 ],\n",
       "       [0.69371961, 0.29389861, 0.65703759, 0.93684657]])"
      ]
     },
     "execution_count": 178,
     "metadata": {},
     "output_type": "execute_result"
    }
   ],
   "source": [
    "np.random.rand(2, 4)"
   ]
  },
  {
   "cell_type": "code",
   "execution_count": 179,
   "id": "588a2b32-aca7-4a0c-b71d-e95f5cd1deff",
   "metadata": {},
   "outputs": [
    {
     "data": {
      "text/plain": [
       "array([4, 4, 7, 8, 8, 7, 4])"
      ]
     },
     "execution_count": 179,
     "metadata": {},
     "output_type": "execute_result"
    }
   ],
   "source": [
    "np.random.randint(3, 10, 7)"
   ]
  },
  {
   "cell_type": "code",
   "execution_count": 180,
   "id": "993eb196-e382-4c7a-9430-35acfad33b51",
   "metadata": {},
   "outputs": [
    {
     "data": {
      "text/plain": [
       "array([[6, 4, 5, 8],\n",
       "       [9, 3, 3, 5]])"
      ]
     },
     "execution_count": 180,
     "metadata": {},
     "output_type": "execute_result"
    }
   ],
   "source": [
    "np.random.randint(3, 10, (2, 4))"
   ]
  },
  {
   "cell_type": "code",
   "execution_count": 184,
   "id": "6fdfa4ae-be9c-49ee-9e8f-35bc186ad081",
   "metadata": {},
   "outputs": [],
   "source": [
    "n1 = np.array([[14, 32, 45], [31, 12, 56]])"
   ]
  },
  {
   "cell_type": "code",
   "execution_count": 187,
   "id": "f75e8488-2ef5-4295-a75d-34322ccf46a1",
   "metadata": {},
   "outputs": [],
   "source": [
    "n2 = np.array([[63, 9], [93, 74]])"
   ]
  },
  {
   "cell_type": "code",
   "execution_count": 188,
   "id": "1db4f2a1-003a-4fc3-b660-d74ed30077ce",
   "metadata": {},
   "outputs": [
    {
     "data": {
      "text/plain": [
       "array([[14, 31],\n",
       "       [32, 12],\n",
       "       [45, 56]])"
      ]
     },
     "execution_count": 188,
     "metadata": {},
     "output_type": "execute_result"
    }
   ],
   "source": [
    "n1.T"
   ]
  },
  {
   "cell_type": "code",
   "execution_count": 186,
   "id": "15f2044b-b90d-4f18-99ef-7ed4fbbf7459",
   "metadata": {},
   "outputs": [
    {
     "data": {
      "text/plain": [
       "array([[3765, 2420],\n",
       "       [3132, 1176],\n",
       "       [8043, 4549]])"
      ]
     },
     "execution_count": 186,
     "metadata": {},
     "output_type": "execute_result"
    }
   ],
   "source": [
    "n1.T@n2"
   ]
  },
  {
   "cell_type": "code",
   "execution_count": 191,
   "id": "6e6d13d4-8c3a-47a1-b7a7-9f6c90c55a4b",
   "metadata": {},
   "outputs": [
    {
     "data": {
      "text/plain": [
       "array([[14, 32, 93, 63, 69, 74],\n",
       "       [31, 12, 87,  9, 61, 42]])"
      ]
     },
     "execution_count": 191,
     "metadata": {},
     "output_type": "execute_result"
    }
   ],
   "source": [
    "numarray2d"
   ]
  },
  {
   "cell_type": "code",
   "execution_count": 190,
   "id": "b591f3cb-d249-4ca6-a24b-f0281281f9e3",
   "metadata": {},
   "outputs": [
    {
     "data": {
      "text/plain": [
       "array([93, 63, 69, 74, 87, 61])"
      ]
     },
     "execution_count": 190,
     "metadata": {},
     "output_type": "execute_result"
    }
   ],
   "source": [
    "numarray2d[numarray2d > 50]"
   ]
  },
  {
   "cell_type": "code",
   "execution_count": 192,
   "id": "e130e056-90ea-47af-927e-f8a0cb92745c",
   "metadata": {},
   "outputs": [
    {
     "ename": "ValueError",
     "evalue": "matmul: Input operand 1 does not have enough dimensions (has 0, gufunc core with signature (n?,k),(k,m?)->(n?,m?) requires 1)",
     "output_type": "error",
     "traceback": [
      "\u001b[0;31m---------------------------------------------------------------------------\u001b[0m",
      "\u001b[0;31mValueError\u001b[0m                                Traceback (most recent call last)",
      "Cell \u001b[0;32mIn[192], line 1\u001b[0m\n\u001b[0;32m----> 1\u001b[0m \u001b[43mnumarray\u001b[49m\u001b[38;5;241;43m@\u001b[39;49m\u001b[38;5;241;43m2\u001b[39;49m\n",
      "\u001b[0;31mValueError\u001b[0m: matmul: Input operand 1 does not have enough dimensions (has 0, gufunc core with signature (n?,k),(k,m?)->(n?,m?) requires 1)"
     ]
    }
   ],
   "source": [
    "numarray@2"
   ]
  },
  {
   "cell_type": "code",
   "execution_count": null,
   "id": "9d517e6a-6a2f-40fc-8cc4-a3e85051ace3",
   "metadata": {},
   "outputs": [],
   "source": []
  }
 ],
 "metadata": {
  "kernelspec": {
   "display_name": "Python 3 (ipykernel)",
   "language": "python",
   "name": "python3"
  },
  "language_info": {
   "codemirror_mode": {
    "name": "ipython",
    "version": 3
   },
   "file_extension": ".py",
   "mimetype": "text/x-python",
   "name": "python",
   "nbconvert_exporter": "python",
   "pygments_lexer": "ipython3",
   "version": "3.10.12"
  }
 },
 "nbformat": 4,
 "nbformat_minor": 5
}
