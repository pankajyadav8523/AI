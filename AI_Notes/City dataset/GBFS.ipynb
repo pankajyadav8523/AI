{
  "cells": [
    {
      "cell_type": "markdown",
      "metadata": {
        "id": "BU6PqpNR7JY0"
      },
      "source": [
        "**Greedy Best first search algorithm**\n",
        "\n",
        "Greedy Best-First Search is an AI algorithm that attempts to find the most promising path from a given starting point to goal. It priorities paths that appear to be the most promising, regardless of weather or not they are actually the shortest path. The algorithm works by evaluating the cost of each possible path and then expanding the path with the lowest cost. This process is repeated until the goal is reached."
      ]
    },
    {
      "cell_type": "markdown",
      "metadata": {
        "id": "NqRphkLl9w0l"
      },
      "source": [
        "**How Greedy Best- First Search Works ?**\n",
        "\n",
        "\n",
        "*   Greedy Best-First Search works by evaluating the cost of each possible path and then expanding the path with the lowest cost. This process is repeated until the goal is reached.\n",
        "*   The algorithm uses a heuristic function to determine which path is the most promising.\n",
        "\n",
        "* The heuristic function takes into account the cost of the current path and the estimated cost of the remaining paths.\n",
        "\n",
        "* If the cost of the current path is lower than the estimated cost of the remaining paths, then the current path is chosen. This process is repeated until the goal is reached.\n",
        "\n"
      ]
    },
    {
      "cell_type": "code",
      "execution_count": 1,
      "metadata": {
        "id": "0j0ehlsA66Tj"
      },
      "outputs": [
        {
          "name": "stdout",
          "output_type": "stream",
          "text": [
            "Maximum dropout can be :-  0.9782716049382716\n"
          ]
        },
        {
          "name": "stderr",
          "output_type": "stream",
          "text": [
            "Removing Edges: 820it [00:31, 26.20it/s]                         \n"
          ]
        },
        {
          "name": "stdout",
          "output_type": "stream",
          "text": [
            "Shortest path from Rajsamand to Patna: ['Rajsamand', 'Chitrakoot', 'Patna']\n",
            "Shortest path length: 1341\n",
            "{'Agra': [('Lucknow', 330), ('Gaya', 871), ('Kota', 401), ('Una', 610), ('Bundi', 408), ('Madhepura', 970), ('Arrah', 787), ('Daudnagar', 800), ('Hanamkonda', 1257), ('Morena', 82), ('Agra', 0), ('Sitapur', 326), ('Faridabad', 178), ('Jodhpur', 570), ('Baghpat', 270), ('Nawada', 931), ('Mirzapur', 567), ('Ghazipur', 677), ('Aligarh', 91), ('Rohtas', 728), ('Palamu', 886), ('Araria', 1098), ('Calicut', 2233), ('Jehanabad', 872), ('Bhagalpur', 1070), ('Balaghat', 793)], 'Aligarh': [('Agra', 91), ('Rajsamand', 619), ('Raebareli', 404), ('Patna', 842), ('Kota', 446), ('Prayagraj', 501), ('Bhopal', 630), ('Una', 505), ('Sarangarh', 1095), ('Lakhimpur', 328), ('Arrah', 790), ('Daudnagar', 803), ('Belagavi', 1660), ('Hanamkonda', 1350), ('Morena', 175), ('Sitapur', 306), ('Delhi', 163), ('Faridabad', 117), ('Jodhpur', 615), ('Mahoba', 444), ('Jaipur', 284), ('Aligarh', 0), ('Palamu', 916), ('Araria', 1101), ('Calicut', 2326), ('Bhagalpur', 1073), ('Balaghat', 886)], 'Araria': [('Agra', 1098), ('Aligarh', 1101), ('Lucknow', 763), ('Rajsamand', 1635), ('Raebareli', 731), ('Patna', 313), ('Gaya', 396), ('Bhopal', 1294), ('Una', 1617), ('Bundi', 1428), ('Sarangarh', 962), ('Belagavi', 2176), ('Sitamarhi', 238), ('Sitapur', 853), ('Delhi', 1275), ('Pakur', 236), ('Nawada', 320), ('Bikaner', 1666), ('Mirzapur', 597), ('Ghazipur', 470), ('Jaipur', 1334), ('Durgapur', 382), ('Chitrakoot', 799), ('Araria', 0), ('Bhagalpur', 137), ('Sri Ganganagar', 1716), ('Balaghat', 1210)], 'Arrah': [('Agra', 787), ('Aligarh', 790), ('Rajsamand', 1325), ('Raebareli', 421), ('Sikar', 1138), ('Prayagraj', 308), ('Bhopal', 940), ('Una', 1307), ('Bundi', 1118), ('Sarangarh', 639), ('Madhepura', 224), ('Arrah', 0), ('Daudnagar', 87), ('Sitamarhi', 171), ('Delhi', 964), ('Faridabad', 961), ('Mahoba', 557), ('Pakur', 432), ('Baghpat', 967), ('Chitrakoot', 445), ('Palamu', 247), ('Calicut', 2328), ('Bhagalpur', 283), ('Sri Ganganagar', 1406)], 'Baghpat': [('Agra', 270), ('Arrah', 967), ('Lucknow', 496), ('Rajsamand', 661), ('Patna', 1005), ('Gaya', 1037), ('Bhopal', 853), ('Bundi', 549), ('Sarangarh', 1265), ('Lakhimpur', 430), ('Madhepura', 1136), ('Daudnagar', 966), ('Sitamarhi', 1053), ('Sitapur', 433), ('Faridabad', 67), ('Baghpat', 0), ('Ghazipur', 843), ('Durgapur', 1296), ('Chitrakoot', 653), ('Rohtas', 936), ('Jehanabad', 1038), ('Sri Ganganagar', 432), ('Balaghat', 1056)], 'Balaghat': [('Agra', 793), ('Aligarh', 886), ('Araria', 1210), ('Baghpat', 1056), ('Gaya', 885), ('Kota', 768), ('Sikar', 1107), ('Sarangarh', 439), ('Madhepura', 1079), ('Daudnagar', 829), ('Sitamarhi', 1026), ('Morena', 714), ('Sitapur', 861), ('Delhi', 1011), ('Faridabad', 968), ('Jodhpur', 1151), ('Sagar', 353), ('Nawada', 944), ('Bikaner', 1240), ('Mirzapur', 614), ('Chitrakoot', 504), ('Calicut', 1596), ('Jehanabad', 897), ('Balaghat', 0)], 'Belagavi': [('Aligarh', 1660), ('Araria', 2176), ('Rajsamand', 1269), ('Raebareli', 1617), ('Patna', 1869), ('Gaya', 1865), ('Bhopal', 1086), ('Bundi', 1245), ('Madhepura', 2041), ('Belagavi', 0), ('Morena', 1483), ('Sitapur', 1809), ('Delhi', 1719), ('Faridabad', 1684), ('Jodhpur', 1457), ('Sagar', 1260), ('Nawada', 1925), ('Bikaner', 1630), ('Mirzapur', 1576), ('Jaipur', 1463), ('Durgapur', 2000), ('Rohtas', 1756), ('Palamu', 1711), ('Calicut', 647), ('Jehanabad', 1866), ('Bhagalpur', 2100), ('Sri Ganganagar', 1878)], 'Bhagalpur': [('Agra', 1070), ('Aligarh', 1073), ('Araria', 137), ('Arrah', 283), ('Belagavi', 2100), ('Lucknow', 735), ('Raebareli', 704), ('Patna', 233), ('Kota', 1369), ('Prayagraj', 591), ('Bhopal', 1223), ('Bundi', 1401), ('Lakhimpur', 878), ('Daudnagar', 298), ('Sitamarhi', 302), ('Delhi', 1248), ('Faridabad', 1244), ('Jodhpur', 1638), ('Mahoba', 840), ('Pakur', 151), ('Jaipur', 1307), ('Rohtas', 344), ('Palamu', 454), ('Calicut', 2466), ('Jehanabad', 225)], 'Bhopal': [('Aligarh', 630), ('Araria', 1294), ('Arrah', 940), ('Baghpat', 853), ('Belagavi', 1086), ('Bhagalpur', 1223), ('Raebareli', 579), ('Kota', 341), ('Sikar', 705), ('Prayagraj', 619), ('Una', 1156), ('Bundi', 375), ('Lakhimpur', 745), ('Madhepura', 1164), ('Daudnagar', 915), ('Hanamkonda', 793), ('Sitamarhi', 1085), ('Sitapur', 703), ('Faridabad', 748), ('Mahoba', 383), ('Bikaner', 814), ('Mirzapur', 683), ('Ghazipur', 821), ('Jaipur', 593), ('Chitrakoot', 504), ('Palamu', 890)], 'Bikaner': [('Araria', 1666), ('Balaghat', 1240), ('Belagavi', 1630), ('Bhopal', 814), ('Rajsamand', 422), ('Patna', 1363), ('Gaya', 1396), ('Kota', 476), ('Sarangarh', 1543), ('Madhepura', 1494), ('Daudnagar', 1325), ('Hanamkonda', 1619), ('Sitamarhi', 1411), ('Morena', 622), ('Sitapur', 827), ('Faridabad', 445), ('Jodhpur', 253), ('Pakur', 1743), ('Sagar', 919), ('Nawada', 1455), ('Bikaner', 0), ('Mirzapur', 1138), ('Ghazipur', 1202), ('Durgapur', 1674), ('Chitrakoot', 996), ('Rohtas', 1298), ('Calicut', 2314), ('Jehanabad', 1397), ('Sri Ganganagar', 241)], 'Bundi': [('Agra', 408), ('Araria', 1428), ('Arrah', 1118), ('Baghpat', 549), ('Belagavi', 1245), ('Bhagalpur', 1401), ('Bhopal', 375), ('Lucknow', 667), ('Rajsamand', 231), ('Patna', 1162), ('Gaya', 1120), ('Kota', 38), ('Sikar', 331), ('Prayagraj', 753), ('Una', 823), ('Bundi', 0), ('Daudnagar', 1049), ('Hanamkonda', 1181), ('Sitamarhi', 1210), ('Sitapur', 733), ('Mahoba', 517), ('Pakur', 1496), ('Sagar', 481), ('Nawada', 1179), ('Mirzapur', 825), ('Ghazipur', 955), ('Jaipur', 219), ('Durgapur', 1386), ('Chitrakoot', 638), ('Rohtas', 1010), ('Palamu', 1084), ('Calicut', 1930), ('Jehanabad', 1121), ('Sri Ganganagar', 676)], 'Calicut': [('Agra', 2233), ('Aligarh', 2326), ('Arrah', 2328), ('Balaghat', 1596), ('Belagavi', 647), ('Bhagalpur', 2466), ('Bikaner', 2314), ('Bundi', 1930), ('Rajsamand', 1978), ('Raebareli', 2124), ('Patna', 2376), ('Gaya', 2372), ('Kota', 1894), ('Una', 2750), ('Daudnagar', 2301), ('Sitapur', 2315), ('Delhi', 2401), ('Jodhpur', 2166), ('Mahoba', 1995), ('Pakur', 2430), ('Sagar', 1805), ('Mirzapur', 2083), ('Ghazipur', 2224), ('Jaipur', 2145), ('Durgapur', 2264), ('Rohtas', 2262), ('Jehanabad', 2373)], 'Chitrakoot': [('Araria', 799), ('Arrah', 445), ('Baghpat', 653), ('Balaghat', 504), ('Bhopal', 504), ('Bikaner', 996), ('Bundi', 638), ('Rajsamand', 846), ('Raebareli', 151), ('Patna', 495), ('Gaya', 491), ('Kota', 606), ('Sikar', 776), ('Una', 1006), ('Hanamkonda', 1001), ('Sitapur', 316), ('Delhi', 641), ('Faridabad', 600), ('Jodhpur', 988), ('Mahoba', 121), ('Pakur', 867), ('Sagar', 336), ('Nawada', 550), ('Mirzapur', 196), ('Ghazipur', 326), ('Durgapur', 757), ('Chitrakoot', 0), ('Rohtas', 381), ('Sri Ganganagar', 1045)], 'Daudnagar': [('Agra', 800), ('Aligarh', 803), ('Arrah', 87), ('Baghpat', 966), ('Balaghat', 829), ('Bhagalpur', 298), ('Bhopal', 915), ('Bikaner', 1325), ('Bundi', 1049), ('Calicut', 2301), ('Lucknow', 466), ('Rajsamand', 1259), ('Patna', 105), ('Gaya', 71), ('Kota', 1019), ('Sikar', 1151), ('Prayagraj', 285), ('Una', 1321), ('Sarangarh', 553), ('Daudnagar', 0), ('Sitapur', 557), ('Faridabad', 975), ('Jodhpur', 1368), ('Nawada', 130), ('Mirzapur', 219), ('Ghazipur', 136), ('Durgapur', 377), ('Palamu', 160)], 'Delhi': [('Aligarh', 163), ('Araria', 1275), ('Arrah', 964), ('Balaghat', 1011), ('Belagavi', 1719), ('Bhagalpur', 1248), ('Calicut', 2401), ('Chitrakoot', 641), ('Lucknow', 497), ('Rajsamand', 621), ('Gaya', 1038), ('Kota', 467), ('Sikar', 273), ('Prayagraj', 665), ('Sitapur', 454), ('Delhi', 0), ('Jodhpur', 559), ('Mahoba', 587), ('Ghazipur', 844), ('Durgapur', 1297), ('Palamu', 1080), ('Jehanabad', 1039)], 'Durgapur': [('Araria', 382), ('Baghpat', 1296), ('Belagavi', 2000), ('Bikaner', 1674), ('Bundi', 1386), ('Calicut', 2264), ('Chitrakoot', 757), ('Daudnagar', 377), ('Delhi', 1297), ('Gaya', 311), ('Kota', 1355), ('Sikar', 1452), ('Prayagraj', 621), ('Una', 1648), ('Sarangarh', 658), ('Lakhimpur', 929), ('Sitamarhi', 481), ('Morena', 1108), ('Sitapur', 933), ('Faridabad', 1276), ('Jodhpur', 1669), ('Pakur', 168), ('Sagar', 1085), ('Mirzapur', 555), ('Jaipur', 1339), ('Rohtas', 405), ('Jehanabad', 361)], 'Faridabad': [('Agra', 178), ('Aligarh', 117), ('Arrah', 961), ('Baghpat', 67), ('Balaghat', 968), ('Belagavi', 1684), ('Bhagalpur', 1244), ('Bhopal', 748), ('Bikaner', 445), ('Chitrakoot', 600), ('Daudnagar', 975), ('Durgapur', 1276), ('Raebareli', 518), ('Patna', 955), ('Prayagraj', 615), ('Una', 402), ('Sarangarh', 1175), ('Lakhimpur', 451), ('Madhepura', 1087), ('Sitamarhi', 1004), ('Faridabad', 0), ('Jodhpur', 603), ('Mahoba', 544), ('Nawada', 1047), ('Mirzapur', 711), ('Ghazipur', 794), ('Jaipur', 272), ('Palamu', 1030), ('Jehanabad', 989), ('Sri Ganganagar', 448)], 'Gaya': [('Agra', 871), ('Araria', 396), ('Baghpat', 1037), ('Balaghat', 885), ('Belagavi', 1865), ('Bikaner', 1396), ('Bundi', 1120), ('Calicut', 2372), ('Chitrakoot', 491), ('Daudnagar', 71), ('Delhi', 1038), ('Durgapur', 311), ('Lucknow', 537), ('Rajsamand', 1330), ('Kota', 1090), ('Sikar', 1223), ('Madhepura', 283), ('Hanamkonda', 1323), ('Sitamarhi', 230), ('Sitapur', 628), ('Jodhpur', 1439), ('Pakur', 364), ('Sagar', 820), ('Nawada', 59), ('Jaipur', 1109), ('Palamu', 216), ('Jehanabad', 49), ('Sri Ganganagar', 1491)], 'Ghazipur': [('Agra', 677), ('Araria', 470), ('Baghpat', 843), ('Bhopal', 821), ('Bikaner', 1202), ('Bundi', 955), ('Calicut', 2224), ('Chitrakoot', 326), ('Daudnagar', 136), ('Delhi', 844), ('Faridabad', 794), ('Lucknow', 343), ('Patna', 174), ('Sikar', 1028), ('Hanamkonda', 1254), ('Morena', 693), ('Jodhpur', 1245), ('Nawada', 267), ('Mirzapur', 142), ('Ghazipur', 0), ('Jaipur', 915), ('Rohtas', 94), ('Jehanabad', 208)], 'Hanamkonda': [('Agra', 1257), ('Aligarh', 1350), ('Bhopal', 793), ('Bikaner', 1619), ('Bundi', 1181), ('Chitrakoot', 1001), ('Gaya', 1323), ('Ghazipur', 1254), ('Rajsamand', 1366), ('Raebareli', 1150), ('Patna', 1333), ('Sikar', 1498), ('Sarangarh', 802), ('Lakhimpur', 1383), ('Hanamkonda', 0), ('Morena', 1179), ('Jodhpur', 1517), ('Mahoba', 1021), ('Pakur', 1579), ('Sagar', 832), ('Nawada', 1349), ('Mirzapur', 1109), ('Jaipur', 1386), ('Rohtas', 1262), ('Palamu', 1107), ('Jehanabad', 1300), ('Sri Ganganagar', 1843)], 'Jaipur': [('Aligarh', 284), ('Araria', 1334), ('Belagavi', 1463), ('Bhagalpur', 1307), ('Bhopal', 593), ('Bundi', 219), ('Calicut', 2145), ('Durgapur', 1339), ('Faridabad', 272), ('Gaya', 1109), ('Ghazipur', 915), ('Hanamkonda', 1386), ('Raebareli', 639), ('Patna', 1077), ('Kota', 256), ('Prayagraj', 710), ('Una', 606), ('Sarangarh', 1211), ('Lakhimpur', 587), ('Madhepura', 1208), ('Sitamarhi', 1125), ('Morena', 290), ('Sitapur', 564), ('Jodhpur', 330), ('Pakur', 1457), ('Sagar', 615), ('Nawada', 1169), ('Mirzapur', 806), ('Jaipur', 0), ('Rohtas', 966), ('Sri Ganganagar', 461)], 'Jehanabad': [('Agra', 872), ('Baghpat', 1038), ('Balaghat', 897), ('Belagavi', 1866), ('Bhagalpur', 225), ('Bikaner', 1397), ('Bundi', 1121), ('Calicut', 2373), ('Delhi', 1039), ('Durgapur', 361), ('Faridabad', 989), ('Gaya', 49), ('Ghazipur', 208), ('Hanamkonda', 1300), ('Rajsamand', 1331), ('Patna', 52), ('Kota', 1091), ('Sikar', 1224), ('Prayagraj', 357), ('Una', 1393), ('Lakhimpur', 681), ('Madhepura', 234), ('Sitamarhi', 180), ('Morena', 844), ('Sitapur', 629), ('Jodhpur', 1440), ('Nawada', 90), ('Mirzapur', 291), ('Palamu', 228), ('Jehanabad', 0), ('Sri Ganganagar', 1492)], 'Jodhpur': [('Agra', 570), ('Aligarh', 615), ('Balaghat', 1151), ('Belagavi', 1457), ('Bhagalpur', 1638), ('Bikaner', 253), ('Calicut', 2166), ('Chitrakoot', 988), ('Daudnagar', 1368), ('Delhi', 559), ('Durgapur', 1669), ('Faridabad', 603), ('Gaya', 1439), ('Ghazipur', 1245), ('Hanamkonda', 1517), ('Jaipur', 330), ('Jehanabad', 1440), ('Lucknow', 899), ('Rajsamand', 190), ('Raebareli', 970), ('Patna', 1407), ('Kota', 374), ('Sikar', 315), ('Prayagraj', 1040), ('Una', 842), ('Lakhimpur', 918), ('Sitamarhi', 1456), ('Morena', 633), ('Sitapur', 895), ('Mahoba', 853), ('Nawada', 1500), ('Mirzapur', 1136), ('Sri Ganganagar', 502)], 'Kota': [('Agra', 401), ('Aligarh', 446), ('Balaghat', 768), ('Bhagalpur', 1369), ('Bhopal', 341), ('Bikaner', 476), ('Bundi', 38), ('Calicut', 1894), ('Chitrakoot', 606), ('Daudnagar', 1019), ('Delhi', 467), ('Durgapur', 1355), ('Gaya', 1090), ('Jaipur', 256), ('Jehanabad', 1091), ('Jodhpur', 374), ('Rajsamand', 251), ('Raebareli', 662), ('Kota', 0), ('Sikar', 368), ('Prayagraj', 720), ('Una', 861), ('Sarangarh', 1048), ('Lakhimpur', 767), ('Madhepura', 1260), ('Morena', 331), ('Sitapur', 720), ('Pakur', 1463), ('Rohtas', 977), ('Palamu', 1051)], 'Lakhimpur': [('Aligarh', 328), ('Baghpat', 430), ('Bhagalpur', 878), ('Bhopal', 745), ('Durgapur', 929), ('Faridabad', 451), ('Hanamkonda', 1383), ('Jaipur', 587), ('Jehanabad', 681), ('Jodhpur', 918), ('Kota', 767), ('Lucknow', 131), ('Rajsamand', 919), ('Raebareli', 208), ('Sikar', 668), ('Una', 737), ('Sarangarh', 958), ('Lakhimpur', 0), ('Mahoba', 362), ('Nawada', 719), ('Mirzapur', 416)], 'Lucknow': [('Agra', 330), ('Araria', 763), ('Baghpat', 496), ('Bhagalpur', 735), ('Bundi', 667), ('Daudnagar', 466), ('Delhi', 497), ('Gaya', 537), ('Ghazipur', 343), ('Jodhpur', 899), ('Lakhimpur', 131), ('Lucknow', 0), ('Rajsamand', 881), ('Raebareli', 78), ('Patna', 504), ('Sikar', 683), ('Prayagraj', 201), ('Sarangarh', 828), ('Madhepura', 636), ('Sitamarhi', 553), ('Morena', 348), ('Sagar', 444), ('Mirzapur', 286), ('Rohtas', 436), ('Sri Ganganagar', 951)], 'Madhepura': [('Agra', 970), ('Arrah', 224), ('Baghpat', 1136), ('Balaghat', 1079), ('Belagavi', 2041), ('Bhopal', 1164), ('Bikaner', 1494), ('Faridabad', 1087), ('Gaya', 283), ('Jaipur', 1208), ('Jehanabad', 234), ('Kota', 1260), ('Lucknow', 636), ('Raebareli', 603), ('Sikar', 1320), ('Una', 1489), ('Sarangarh', 837), ('Madhepura', 0), ('Sitamarhi', 118), ('Morena', 985), ('Sitapur', 725), ('Mahoba', 783), ('Sagar', 998), ('Nawada', 216), ('Rohtas', 321), ('Sri Ganganagar', 1588)], 'Mahoba': [('Aligarh', 444), ('Arrah', 557), ('Bhagalpur', 840), ('Bhopal', 383), ('Bundi', 517), ('Calicut', 1995), ('Chitrakoot', 121), ('Delhi', 587), ('Faridabad', 544), ('Hanamkonda', 1021), ('Jodhpur', 853), ('Lakhimpur', 362), ('Madhepura', 783), ('Raebareli', 196), ('Sikar', 721), ('Prayagraj', 236), ('Una', 950), ('Sitamarhi', 702), ('Morena', 302), ('Pakur', 980), ('Sagar', 215), ('Nawada', 663), ('Rohtas', 494), ('Palamu', 652), ('Sri Ganganagar', 989)], 'Mirzapur': [('Agra', 567), ('Araria', 597), ('Balaghat', 614), ('Belagavi', 1576), ('Bhopal', 683), ('Bikaner', 1138), ('Bundi', 825), ('Calicut', 2083), ('Chitrakoot', 196), ('Daudnagar', 219), ('Durgapur', 555), ('Faridabad', 711), ('Ghazipur', 142), ('Hanamkonda', 1109), ('Jaipur', 806), ('Jehanabad', 291), ('Jodhpur', 1136), ('Lakhimpur', 416), ('Lucknow', 286), ('Rajsamand', 1033), ('Raebareli', 208), ('Sikar', 918), ('Una', 1113), ('Sarangarh', 563), ('Sitamarhi', 413), ('Sitapur', 374), ('Pakur', 667), ('Sagar', 515), ('Nawada', 350), ('Palamu', 339), ('Sri Ganganagar', 1186)], 'Morena': [('Agra', 82), ('Aligarh', 175), ('Balaghat', 714), ('Belagavi', 1483), ('Bikaner', 622), ('Durgapur', 1108), ('Ghazipur', 693), ('Hanamkonda', 1179), ('Jaipur', 290), ('Jehanabad', 844), ('Jodhpur', 633), ('Kota', 331), ('Lucknow', 348), ('Madhepura', 985), ('Mahoba', 302), ('Rajsamand', 560), ('Raebareli', 398), ('Sikar', 426), ('Prayagraj', 479), ('Una', 689), ('Sarangarh', 923), ('Sitamarhi', 910), ('Morena', 0), ('Sitapur', 345), ('Nawada', 954), ('Rohtas', 735), ('Palamu', 894)], 'Nawada': [('Agra', 931), ('Araria', 320), ('Balaghat', 944), ('Belagavi', 1925), ('Bikaner', 1455), ('Bundi', 1179), ('Chitrakoot', 550), ('Daudnagar', 130), ('Faridabad', 1047), ('Gaya', 59), ('Ghazipur', 267), ('Hanamkonda', 1349), ('Jaipur', 1169), ('Jehanabad', 90), ('Jodhpur', 1500), ('Lakhimpur', 719), ('Madhepura', 216), ('Mahoba', 663), ('Mirzapur', 350), ('Morena', 954), ('Rajsamand', 1389), ('Raebareli', 565), ('Sikar', 1282), ('Prayagraj', 416), ('Una', 1451), ('Nawada', 0), ('Rohtas', 177), ('Palamu', 275), ('Sri Ganganagar', 1551)], 'Pakur': [('Araria', 236), ('Arrah', 432), ('Bhagalpur', 151), ('Bikaner', 1743), ('Bundi', 1496), ('Calicut', 2430), ('Chitrakoot', 867), ('Durgapur', 168), ('Gaya', 364), ('Hanamkonda', 1579), ('Jaipur', 1457), ('Kota', 1463), ('Mahoba', 980), ('Mirzapur', 667), ('Rajsamand', 1706), ('Una', 1739), ('Sitamarhi', 450), ('Pakur', 0), ('Sri Ganganagar', 1838)], 'Palamu': [('Agra', 886), ('Aligarh', 916), ('Arrah', 247), ('Belagavi', 1711), ('Bhagalpur', 454), ('Bhopal', 890), ('Bundi', 1084), ('Daudnagar', 160), ('Delhi', 1080), ('Faridabad', 1030), ('Gaya', 216), ('Hanamkonda', 1107), ('Jehanabad', 228), ('Kota', 1051), ('Mahoba', 652), ('Mirzapur', 339), ('Morena', 894), ('Nawada', 275), ('Rajsamand', 1292), ('Raebareli', 527), ('Patna', 260), ('Sikar', 1237), ('Prayagraj', 405), ('Una', 1432), ('Sarangarh', 427), ('Sitamarhi', 390), ('Sitapur', 717), ('Sagar', 719), ('Rohtas', 189), ('Palamu', 0), ('Sri Ganganagar', 1505)], 'Patna': [('Aligarh', 842), ('Araria', 313), ('Baghpat', 1005), ('Belagavi', 1869), ('Bhagalpur', 233), ('Bikaner', 1363), ('Bundi', 1162), ('Calicut', 2376), ('Chitrakoot', 495), ('Daudnagar', 105), ('Faridabad', 955), ('Ghazipur', 174), ('Hanamkonda', 1333), ('Jaipur', 1077), ('Jehanabad', 52), ('Jodhpur', 1407), ('Lucknow', 504), ('Palamu', 260), ('Patna', 0), ('Una', 1359), ('Sitamarhi', 131), ('Sri Ganganagar', 1458)], 'Prayagraj': [('Aligarh', 501), ('Arrah', 308), ('Bhagalpur', 591), ('Bhopal', 619), ('Bundi', 753), ('Daudnagar', 285), ('Delhi', 665), ('Durgapur', 621), ('Faridabad', 615), ('Jaipur', 710), ('Jehanabad', 357), ('Jodhpur', 1040), ('Kota', 720), ('Lucknow', 201), ('Mahoba', 236), ('Morena', 479), ('Nawada', 416), ('Palamu', 405), ('Rajsamand', 961), ('Raebareli', 123), ('Sikar', 822), ('Prayagraj', 0), ('Una', 1017), ('Sitapur', 289), ('Sagar', 451), ('Rohtas', 247)], 'Raebareli': [('Aligarh', 404), ('Araria', 731), ('Arrah', 421), ('Belagavi', 1617), ('Bhagalpur', 704), ('Bhopal', 579), ('Calicut', 2124), ('Chitrakoot', 151), ('Faridabad', 518), ('Hanamkonda', 1150), ('Jaipur', 639), ('Jodhpur', 970), ('Kota', 662), ('Lakhimpur', 208), ('Lucknow', 78), ('Madhepura', 603), ('Mahoba', 196), ('Mirzapur', 208), ('Morena', 398), ('Nawada', 565), ('Palamu', 527), ('Prayagraj', 123), ('Rajsamand', 909), ('Raebareli', 0), ('Sitamarhi', 518), ('Sitapur', 166), ('Sagar', 411), ('Rohtas', 368)], 'Rajsamand': [('Aligarh', 619), ('Araria', 1635), ('Arrah', 1325), ('Baghpat', 661), ('Belagavi', 1269), ('Bikaner', 422), ('Bundi', 231), ('Calicut', 1978), ('Chitrakoot', 846), ('Daudnagar', 1259), ('Delhi', 621), ('Gaya', 1330), ('Hanamkonda', 1366), ('Jehanabad', 1331), ('Jodhpur', 190), ('Kota', 251), ('Lakhimpur', 919), ('Lucknow', 881), ('Mirzapur', 1033), ('Morena', 560), ('Nawada', 1389), ('Pakur', 1706), ('Palamu', 1292), ('Prayagraj', 961), ('Raebareli', 909), ('Rajsamand', 0), ('Sikar', 375), ('Una', 941), ('Sitamarhi', 1424), ('Sagar', 679), ('Rohtas', 1224)], 'Rohtas': [('Agra', 728), ('Baghpat', 936), ('Belagavi', 1756), ('Bhagalpur', 344), ('Bikaner', 1298), ('Bundi', 1010), ('Calicut', 2262), ('Chitrakoot', 381), ('Durgapur', 405), ('Ghazipur', 94), ('Hanamkonda', 1262), ('Jaipur', 966), ('Kota', 977), ('Lucknow', 436), ('Madhepura', 321), ('Mahoba', 494), ('Morena', 735), ('Nawada', 177), ('Palamu', 189), ('Prayagraj', 247), ('Raebareli', 368), ('Rajsamand', 1224), ('Sikar', 1078), ('Una', 1274), ('Sarangarh', 582), ('Sitapur', 526), ('Sri Ganganagar', 1346)], 'Sagar': [('Balaghat', 353), ('Belagavi', 1260), ('Bikaner', 919), ('Bundi', 481), ('Calicut', 1805), ('Chitrakoot', 336), ('Durgapur', 1085), ('Gaya', 820), ('Hanamkonda', 832), ('Jaipur', 615), ('Lucknow', 444), ('Madhepura', 998), ('Mahoba', 215), ('Mirzapur', 515), ('Palamu', 719), ('Prayagraj', 451), ('Raebareli', 411), ('Rajsamand', 679), ('Sikar', 748), ('Una', 1028), ('Sitapur', 535), ('Sagar', 0)], 'Sarangarh': [('Aligarh', 1095), ('Araria', 962), ('Arrah', 639), ('Baghpat', 1265), ('Balaghat', 439), ('Bikaner', 1543), ('Daudnagar', 553), ('Durgapur', 658), ('Faridabad', 1175), ('Hanamkonda', 802), ('Jaipur', 1211), ('Kota', 1048), ('Lakhimpur', 958), ('Lucknow', 828), ('Madhepura', 837), ('Mirzapur', 563), ('Morena', 923), ('Palamu', 427), ('Rohtas', 582), ('Una', 1609), ('Sitapur', 916)], 'Sikar': [('Arrah', 1138), ('Balaghat', 1107), ('Bhopal', 705), ('Bundi', 331), ('Chitrakoot', 776), ('Daudnagar', 1151), ('Delhi', 273), ('Durgapur', 1452), ('Gaya', 1223), ('Ghazipur', 1028), ('Hanamkonda', 1498), ('Jehanabad', 1224), ('Jodhpur', 315), ('Kota', 368), ('Lakhimpur', 668), ('Lucknow', 683), ('Madhepura', 1320), ('Mahoba', 721), ('Mirzapur', 918), ('Morena', 426), ('Nawada', 1282), ('Palamu', 1237), ('Prayagraj', 822), ('Rajsamand', 375), ('Rohtas', 1078), ('Sagar', 748), ('Sikar', 0), ('Sitamarhi', 1237), ('Sitapur', 676), ('Sri Ganganagar', 348)], 'Sitamarhi': [('Araria', 238), ('Arrah', 171), ('Baghpat', 1053), ('Balaghat', 1026), ('Bhagalpur', 302), ('Bhopal', 1085), ('Bikaner', 1411), ('Bundi', 1210), ('Durgapur', 481), ('Faridabad', 1004), ('Gaya', 230), ('Jaipur', 1125), ('Jehanabad', 180), ('Jodhpur', 1456), ('Lucknow', 553), ('Madhepura', 118), ('Mahoba', 702), ('Mirzapur', 413), ('Morena', 910), ('Pakur', 450), ('Palamu', 390), ('Patna', 131), ('Raebareli', 518), ('Rajsamand', 1424), ('Sikar', 1237), ('Una', 1407), ('Sitamarhi', 0)], 'Sitapur': [('Agra', 326), ('Aligarh', 306), ('Araria', 853), ('Baghpat', 433), ('Balaghat', 861), ('Belagavi', 1809), ('Bhopal', 703), ('Bikaner', 827), ('Bundi', 733), ('Calicut', 2315), ('Chitrakoot', 316), ('Daudnagar', 557), ('Delhi', 454), ('Durgapur', 933), ('Gaya', 628), ('Jaipur', 564), ('Jehanabad', 629), ('Jodhpur', 895), ('Kota', 720), ('Madhepura', 725), ('Mirzapur', 374), ('Morena', 345), ('Palamu', 717), ('Prayagraj', 289), ('Raebareli', 166), ('Rohtas', 526), ('Sagar', 535), ('Sarangarh', 916), ('Sikar', 676), ('Una', 734), ('Sitapur', 0)], 'Sri Ganganagar': [('Araria', 1716), ('Arrah', 1406), ('Baghpat', 432), ('Belagavi', 1878), ('Bikaner', 241), ('Bundi', 676), ('Chitrakoot', 1045), ('Faridabad', 448), ('Gaya', 1491), ('Hanamkonda', 1843), ('Jaipur', 461), ('Jehanabad', 1492), ('Jodhpur', 502), ('Lucknow', 951), ('Madhepura', 1588), ('Mahoba', 989), ('Mirzapur', 1186), ('Nawada', 1551), ('Pakur', 1838), ('Palamu', 1505), ('Patna', 1458), ('Rohtas', 1346), ('Sikar', 348), ('Una', 365), ('Sri Ganganagar', 0)], 'Una': [('Agra', 610), ('Aligarh', 505), ('Araria', 1617), ('Arrah', 1307), ('Bhopal', 1156), ('Bundi', 823), ('Calicut', 2750), ('Chitrakoot', 1006), ('Daudnagar', 1321), ('Durgapur', 1648), ('Faridabad', 402), ('Jaipur', 606), ('Jehanabad', 1393), ('Jodhpur', 842), ('Kota', 861), ('Lakhimpur', 737), ('Madhepura', 1489), ('Mahoba', 950), ('Mirzapur', 1113), ('Morena', 689), ('Nawada', 1451), ('Pakur', 1739), ('Palamu', 1432), ('Patna', 1359), ('Prayagraj', 1017), ('Rajsamand', 941), ('Rohtas', 1274), ('Sagar', 1028), ('Sarangarh', 1609), ('Sitamarhi', 1407), ('Sitapur', 734), ('Sri Ganganagar', 365), ('Una', 0)]}\n"
          ]
        }
      ],
      "source": [
        "%run random_graph.ipynb #import random graph notebook"
      ]
    },
    {
      "cell_type": "code",
      "execution_count": 2,
      "metadata": {
        "id": "adQfuu3_9pu_"
      },
      "outputs": [],
      "source": [
        "adj_list = G.adjList() # making adjacency list"
      ]
    },
    {
      "cell_type": "code",
      "execution_count": 3,
      "metadata": {
        "id": "B_Hl5n_O-4KL"
      },
      "outputs": [],
      "source": [
        "import pandas as pd\n",
        "\n",
        "node1 = input(\"Enter the starting or root node :\")\n",
        "node2 = input(\"Enter the goal or target node :\")\n",
        "\n",
        "# Reading the random connected graph\n",
        "df1 = pd.read_csv('random_connected_graph.csv')\n",
        "\n",
        "# Reading the complete graph\n",
        "df2 = pd.read_csv('complete_graph.csv')\n",
        "\n",
        "# Extract unique nodes from df1 and df2\n",
        "unique_node = set(df1['node1']).union(df1['node2']).union(df2['node1']).union(df2['node2'])\n",
        "\n",
        "# Create a DataFrame containing only the rows that match the goal_node in df2\n",
        "heuristic_df = df2[df2['node2'] == node2]\n",
        "\n",
        "# Create a dictionary of heuristic distances\n",
        "h = dict(zip(heuristic_df['node1'], heuristic_df['Heuristic distance']))\n",
        "\n"
      ]
    },
    {
      "cell_type": "code",
      "execution_count": 4,
      "metadata": {
        "id": "LMt8MA2U-70R"
      },
      "outputs": [
        {
          "name": "stdout",
          "output_type": "stream",
          "text": [
            "{'Agra': 305, 'Aligarh': 370, 'Araria': 1167, 'Arrah': 886, 'Baghpat': 434, 'Balaghat': 579, 'Belagavi': 1046, 'Bhagalpur': 1119, 'Bhopal': 267, 'Bikaner': 401, 'Bundi': 32, 'Calicut': 1544, 'Chitrakoot': 504, 'Daudnagar': 860, 'Delhi': 405, 'Durgapur': 1176, 'Faridabad': 382, 'Gaya': 923, 'Ghazipur': 777, 'Hanamkonda': 884, 'Jaipur': 188, 'Jehanabad': 918, 'Jodhpur': 306, 'Kota': 0, 'Lakhimpur': 575, 'Lucknow': 540, 'Madhepura': 1060, 'Mahoba': 405, 'Mirzapur': 675, 'Morena': 256, 'Nawada': 977, 'Pakur': 1211, 'Palamu': 848, 'Patna': 933, 'Prayagraj': 602, 'Raebareli': 552, 'Rajsamand': 200, 'Rohtas': 822, 'Sagar': 328, 'Sarangarh': 839, 'Sikar': 275, 'Sitamarhi': 977, 'Sitapur': 546, 'Sri Ganganagar': 555, 'Una': 694}\n"
          ]
        }
      ],
      "source": [
        "print(h)"
      ]
    },
    {
      "cell_type": "code",
      "execution_count": 5,
      "metadata": {
        "id": "D1oAxIBa--3w"
      },
      "outputs": [
        {
          "name": "stdout",
          "output_type": "stream",
          "text": [
            "['Agra', 'Kota']\n"
          ]
        }
      ],
      "source": [
        "# Storing path nodes in the list path.\n",
        "path = [node1]\n",
        "\n",
        "def GBFS(node1, node2):\n",
        "  \"\"\"It adds the nodes in the path by using greedy breadth first algo.\"\"\"\n",
        "  if node1 == node2:\n",
        "    return\n",
        "  else:\n",
        "    flag = True\n",
        "    for i in adj_list[node1]:\n",
        "      if flag:\n",
        "        min = i[0]\n",
        "        flag = False\n",
        "      if h[i[0]] < h[min]: # Checking minimum values of heuristic function.\n",
        "        min = i[0]\n",
        "    path.append(min)\n",
        "    GBFS(min, node2) # Expanding node which has minimum heuristic distance.\n",
        "\n",
        "GBFS(node1, node2)\n",
        "\n",
        "if node2 not in path:\n",
        "  print(\"Path is not found.\")\n",
        "else:\n",
        "  print(path)"
      ]
    }
  ],
  "metadata": {
    "colab": {
      "provenance": []
    },
    "kernelspec": {
      "display_name": "Python 3",
      "name": "python3"
    },
    "language_info": {
      "codemirror_mode": {
        "name": "ipython",
        "version": 3
      },
      "file_extension": ".py",
      "mimetype": "text/x-python",
      "name": "python",
      "nbconvert_exporter": "python",
      "pygments_lexer": "ipython3",
      "version": "3.10.12"
    }
  },
  "nbformat": 4,
  "nbformat_minor": 0
}
