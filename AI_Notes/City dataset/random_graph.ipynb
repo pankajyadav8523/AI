{
 "cells": [
  {
   "cell_type": "markdown",
   "metadata": {},
   "source": [
    "<h1>Functions available in Graph class</h1>\n",
    "<ul>\n",
    "    <li>maximum_dropout:- for returning the maximum dropout value\n",
    "    <li>add_node:- for adding one node only</li>\n",
    "    <li>add_nodes:- for adding multiple nodes at a time</li>\n",
    "    <li>add_edge:- for adding edge between given two nodes</li>\n",
    "    <li>edges:- for returning edges in the graph</li> \n",
    "    <li>adjList:- for returning the adjacency list of the graph</li>\n",
    "    <li>nodeDegree:- for finding the degree of any node</li>\n",
    "    <li>randomGraphCreater:- for converting complete graph to incomplete connected graph</li>\n",
    "</ul>"
   ]
  },
  {
   "cell_type": "code",
   "execution_count": 1,
   "metadata": {},
   "outputs": [],
   "source": [
    "# importing the required modules\n",
    "import pandas as pd\n",
    "import networkx as nx\n",
    "from RandomGraph import Graph"
   ]
  },
  {
   "cell_type": "code",
   "execution_count": 8,
   "metadata": {},
   "outputs": [
    {
     "name": "stdout",
     "output_type": "stream",
     "text": [
      "Maximum dropout can be :-  0.9782716049382716\n"
     ]
    }
   ],
   "source": [
    "# reading the 'Complete_graph.csv' file\n",
    "csv_file_path = 'complete_graph.csv'\n",
    "df = pd.read_csv(csv_file_path)\n",
    "\n",
    "G = Graph()\n",
    "\n",
    "# Add nodes to the graph.\n",
    "    \n",
    "G.add_nodes(df['node1'].unique())\n",
    "\n",
    "for i, row in df.iterrows():\n",
    "    node1 = row['node1']\n",
    "    node2 = row['node2']\n",
    "    route_distance = row['route_distance']\n",
    "    heuristic_distance = row['Heuristic distance']\n",
    "    G.add_edge(node1, node2, route_distance, heuristic_distance)\n",
    "\n",
    "\n",
    "a = G.maximum_dropout()\n",
    "print(\"Maximum dropout can be :- \" , a)\n",
    "\n"
   ]
  },
  {
   "cell_type": "code",
   "execution_count": 9,
   "metadata": {},
   "outputs": [],
   "source": [
    "dropout = float(input(f'Enter dropout rate between 0 and {a}'))"
   ]
  },
  {
   "cell_type": "code",
   "execution_count": 10,
   "metadata": {},
   "outputs": [
    {
     "name": "stderr",
     "output_type": "stream",
     "text": [
      "Removing Edges: 1836it [00:48, 37.73it/s]                           \n"
     ]
    },
    {
     "data": {
      "text/plain": [
       "'Random connected graph saved to random_connected_graph.csv'"
      ]
     },
     "execution_count": 10,
     "metadata": {},
     "output_type": "execute_result"
    }
   ],
   "source": [
    "def dropout_graph(G, df, dropout):\n",
    "    \"\"\"\n",
    "    Following function is going to create a random connected graph after removing or droping the edges between nodes in graph.\n",
    "    Amount or number of edges needs to droped is going to be decided by user with certain condition. For doing this we use the \n",
    "    class that we created. Since we want to create connected graph the minimum dropout rate is 0 and maximum will be calculated \n",
    "    from the number of edges in the graph.\n",
    "\n",
    "    Maximum Drouout = 1 - (Total number of unique nodes in graph / Total no of edges in the graph)\n",
    "\n",
    "    Parameter G : graph class object.\n",
    "    Precondition : G must be graph class instance.\n",
    "\n",
    "    Parameter df : dataframe containg our dataset.\n",
    "    Precondition: df must be dataframe.\n",
    "\n",
    "    Parameter dropout: what percent of edges to be removed.\n",
    "    Precondition : dropout is in range [0, maximum dropout).\n",
    "    \"\"\"\n",
    "\n",
    "    # Create a random connected graph by removing randomly selected edges.\n",
    "    random_connected_graph = G.randomGraphCreater(dropout)\n",
    "\n",
    "    output_csv_file = 'random_connected_graph.csv'  \n",
    "    edge_data = list(random_connected_graph)\n",
    "    edge_df = pd.DataFrame(edge_data, columns=['node1', 'node2', 'route_distance', 'Heuristic distance'])\n",
    "    edge_df.to_csv(output_csv_file, index=False)\n",
    "    \n",
    "    return f\"Random connected graph saved to {output_csv_file}\"\n",
    "dropout_graph(G, df, dropout)"
   ]
  },
  {
   "cell_type": "code",
   "execution_count": 12,
   "metadata": {},
   "outputs": [
    {
     "name": "stdout",
     "output_type": "stream",
     "text": [
      "Shortest path from Rajsamand to Patna: ['Rajsamand', 'Sagar', 'Patna']\n",
      "Shortest path length: 1503\n"
     ]
    }
   ],
   "source": [
    "df = pd.read_csv('random_connected_graph.csv')\n",
    "G1 = nx.Graph()     # Creating Graph object.\n",
    "\n",
    "\"\"\"\n",
    "In this code we are calculating the shortest path from the City-A to City-B with the help of networkx library.\n",
    "shortest_path is a method in a networkx library which takes start node, target node as a input parameters.\n",
    "\"\"\"\n",
    "\n",
    "for _, row in df.iterrows():\n",
    "    node1 = row['node1']\n",
    "    node2 = row['node2']\n",
    "    route_distance = row['route_distance']\n",
    "\n",
    "    G1.add_node(node1)   # We are adding the node.\n",
    "    G1.add_node(node2)   # We are adding the node.\n",
    "\n",
    "    G1.add_edge(node1, node2, weight=int(route_distance))    # We are adding the edge between the nodes.\n",
    "\n",
    "source_node = 'Rajsamand'    # Start Node\n",
    "target_node = 'Patna'        # Target Node\n",
    "shortest_path = nx.shortest_path(G1, source=source_node, target=target_node, weight='weight')    # This method return shortest path from city-A to city-B.\n",
    "shortest_path_length = nx.shortest_path_length(G1, source=source_node, target=target_node, weight='weight')    # This method return cost of the shortest path between City-A to City-B.\n",
    "print(f\"Shortest path from {source_node} to {target_node}: {shortest_path}\")\n",
    "print(f\"Shortest path length: {shortest_path_length}\")"
   ]
  },
  {
   "cell_type": "code",
   "execution_count": 13,
   "metadata": {},
   "outputs": [
    {
     "name": "stdout",
     "output_type": "stream",
     "text": [
      "{'Agra': [('Kota', 401), ('Sarangarh', 1002), ('Hanamkonda', 1257), ('Sitapur', 326), ('Bikaner', 571), ('Araria', 1098)], 'Aligarh': [('Sikar', 358), ('Chitrakoot', 491)], 'Araria': [('Agra', 1098), ('Hanamkonda', 1647), ('Nawada', 320)], 'Arrah': [('Gaya', 130), ('Sitamarhi', 171), ('Bikaner', 1356), ('Ghazipur', 122), ('Calicut', 2328), ('Bhagalpur', 283)], 'Baghpat': [('Baghpat', 0), ('Mirzapur', 760), ('Jaipur', 326)], 'Balaghat': [('Belagavi', 1089), ('Pakur', 1161), ('Rohtas', 794), ('Bhagalpur', 1123)], 'Belagavi': [('Balaghat', 1089), ('Kota', 1212), ('Prayagraj', 1544), ('Belagavi', 0), ('Hanamkonda', 737), ('Sitapur', 1809), ('Faridabad', 1684), ('Ghazipur', 1718)], 'Bhagalpur': [('Arrah', 283), ('Balaghat', 1123), ('Prayagraj', 591), ('Una', 1590), ('Durgapur', 246)], 'Bhopal': [('Rajsamand', 573), ('Madhepura', 1164), ('Faridabad', 748), ('Jodhpur', 724)], 'Bikaner': [('Agra', 571), ('Arrah', 1356), ('Mahoba', 941), ('Nawada', 1455), ('Sri Ganganagar', 241)], 'Bundi': [('Sitamarhi', 1210), ('Sitapur', 733)], 'Calicut': [('Arrah', 2328), ('Patna', 2376), ('Gaya', 2372), ('Prayagraj', 2051), ('Una', 2750), ('Daudnagar', 2301), ('Nawada', 2431)], 'Chitrakoot': [('Aligarh', 491), ('Lucknow', 228), ('Rajsamand', 846)], 'Daudnagar': [('Calicut', 2301), ('Lucknow', 466), ('Rajsamand', 1259), ('Prayagraj', 285), ('Sarangarh', 553), ('Daudnagar', 0), ('Jodhpur', 1368), ('Durgapur', 377)], 'Delhi': [('Sitamarhi', 1054), ('Sitapur', 454), ('Mirzapur', 761), ('Ghazipur', 844)], 'Durgapur': [('Bhagalpur', 246), ('Daudnagar', 377), ('Gaya', 311)], 'Faridabad': [('Belagavi', 1684), ('Bhopal', 748), ('Raebareli', 518), ('Madhepura', 1087), ('Mahoba', 544)], 'Gaya': [('Arrah', 130), ('Calicut', 2372), ('Durgapur', 311), ('Lucknow', 537), ('Gaya', 0), ('Mirzapur', 290)], 'Ghazipur': [('Arrah', 122), ('Belagavi', 1718), ('Delhi', 844), ('Nawada', 267), ('Mirzapur', 142), ('Jehanabad', 208)], 'Hanamkonda': [('Agra', 1257), ('Araria', 1647), ('Belagavi', 737), ('Rajsamand', 1366), ('Sarangarh', 802), ('Sitamarhi', 1463), ('Sagar', 832), ('Jaipur', 1386)], 'Jaipur': [('Baghpat', 326), ('Hanamkonda', 1386), ('Lakhimpur', 587), ('Madhepura', 1208), ('Pakur', 1457), ('Rohtas', 966), ('Jehanabad', 1111)], 'Jehanabad': [('Ghazipur', 208), ('Jaipur', 1111), ('Rajsamand', 1331), ('Prayagraj', 357), ('Sitamarhi', 180), ('Mirzapur', 291), ('Palamu', 228)], 'Jodhpur': [('Bhopal', 724), ('Daudnagar', 1368), ('Kota', 374), ('Jodhpur', 0)], 'Kota': [('Agra', 401), ('Belagavi', 1212), ('Jodhpur', 374), ('Raebareli', 662), ('Nawada', 1146), ('Sri Ganganagar', 714)], 'Lakhimpur': [('Jaipur', 587)], 'Lucknow': [('Chitrakoot', 228), ('Daudnagar', 466), ('Gaya', 537), ('Lucknow', 0), ('Sitapur', 88)], 'Madhepura': [('Bhopal', 1164), ('Faridabad', 1087), ('Jaipur', 1208)], 'Mahoba': [('Bikaner', 941), ('Faridabad', 544), ('Una', 950), ('Mahoba', 0), ('Pakur', 980)], 'Mirzapur': [('Baghpat', 760), ('Delhi', 761), ('Gaya', 290), ('Ghazipur', 142), ('Jehanabad', 291), ('Raebareli', 208), ('Sikar', 918)], 'Morena': [('Rajsamand', 560), ('Nawada', 954), ('Sri Ganganagar', 699)], 'Nawada': [('Araria', 320), ('Bikaner', 1455), ('Calicut', 2431), ('Ghazipur', 267), ('Kota', 1146), ('Morena', 954), ('Sikar', 1282), ('Sitapur', 687), ('Nawada', 0), ('Sri Ganganagar', 1551)], 'Pakur': [('Balaghat', 1161), ('Jaipur', 1457), ('Mahoba', 980)], 'Palamu': [('Jehanabad', 228), ('Sitamarhi', 390)], 'Patna': [('Calicut', 2376), ('Una', 1359), ('Sitapur', 595), ('Sagar', 824)], 'Prayagraj': [('Belagavi', 1544), ('Bhagalpur', 591), ('Calicut', 2051), ('Daudnagar', 285), ('Jehanabad', 357)], 'Raebareli': [('Faridabad', 518), ('Kota', 662), ('Mirzapur', 208), ('Raebareli', 0)], 'Rajsamand': [('Bhopal', 573), ('Chitrakoot', 846), ('Daudnagar', 1259), ('Hanamkonda', 1366), ('Jehanabad', 1331), ('Morena', 560), ('Rajsamand', 0), ('Sikar', 375), ('Sagar', 679)], 'Rohtas': [('Balaghat', 794), ('Jaipur', 966)], 'Sagar': [('Hanamkonda', 832), ('Patna', 824), ('Rajsamand', 679), ('Sitapur', 535)], 'Sarangarh': [('Agra', 1002), ('Daudnagar', 553), ('Hanamkonda', 802), ('Una', 1609), ('Sarangarh', 0)], 'Sikar': [('Aligarh', 358), ('Mirzapur', 918), ('Nawada', 1282), ('Rajsamand', 375), ('Sikar', 0)], 'Sitamarhi': [('Arrah', 171), ('Bundi', 1210), ('Delhi', 1054), ('Hanamkonda', 1463), ('Jehanabad', 180), ('Palamu', 390)], 'Sitapur': [('Agra', 326), ('Belagavi', 1809), ('Bundi', 733), ('Delhi', 454), ('Lucknow', 88), ('Nawada', 687), ('Patna', 595), ('Sagar', 535)], 'Sri Ganganagar': [('Bikaner', 241), ('Kota', 714), ('Morena', 699), ('Nawada', 1551)], 'Una': [('Bhagalpur', 1590), ('Calicut', 2750), ('Mahoba', 950), ('Patna', 1359), ('Sarangarh', 1609)]}\n"
     ]
    }
   ],
   "source": [
    "adj_list = G.adjList()\n",
    "print(adj_list)"
   ]
  }
 ],
 "metadata": {
  "kernelspec": {
   "display_name": "Python 3 (ipykernel)",
   "language": "python",
   "name": "python3"
  },
  "language_info": {
   "codemirror_mode": {
    "name": "ipython",
    "version": 3
   },
   "file_extension": ".py",
   "mimetype": "text/x-python",
   "name": "python",
   "nbconvert_exporter": "python",
   "pygments_lexer": "ipython3",
   "version": "3.10.12"
  }
 },
 "nbformat": 4,
 "nbformat_minor": 2
}
