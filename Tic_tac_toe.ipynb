{
  "cells": [
    {
      "cell_type": "code",
      "execution_count": 1,
      "metadata": {
        "id": "lGkv2-qVyIr2"
      },
      "outputs": [],
      "source": [
        "# Importing necessary modules\n",
        "import json"
      ]
    },
    {
      "cell_type": "code",
      "execution_count": 2,
      "metadata": {
        "id": "eA9kI0IGphsJ"
      },
      "outputs": [],
      "source": [
        "EMPTY = ' '\n",
        "MAX = 'X'\n",
        "MIN = 'O'\n",
        "\n",
        "# Prints the board\n",
        "def print_board(board):\n",
        "    for row in board:\n",
        "        print(\" | \".join(row))\n",
        "        print(\"---------\")"
      ]
    },
    {
      "cell_type": "code",
      "execution_count": 3,
      "metadata": {
        "id": "MyAG_SIj-NqS"
      },
      "outputs": [],
      "source": [
        "# Check if a player has won\n",
        "def check_win(board, player):\n",
        "    for i in range(3):\n",
        "        if all(board[i][j] == player for j in range(3)) or all(board[j][i] == player for j in range(3)):\n",
        "            return True\n",
        "    if all(board[i][i] == player for i in range(3)) or all(board[i][2 - i] == player for i in range(3)):\n",
        "        return True\n",
        "    return False"
      ]
    },
    {
      "cell_type": "code",
      "execution_count": 4,
      "metadata": {
        "id": "GvHuSB5F-NqS"
      },
      "outputs": [],
      "source": [
        "# Generate all possible moves for a given board state\n",
        "def generate_moves(board, player):\n",
        "    moves = []\n",
        "    for i in range(3):\n",
        "        for j in range(3):\n",
        "            if board[i][j] == EMPTY:\n",
        "                new_board = [row[:] for row in board]\n",
        "                new_board[i][j] = player\n",
        "                moves.append(new_board)\n",
        "    return moves\n",
        "\n",
        "# Minimax algorithm\n",
        "def minimax(board, player):\n",
        "    if check_win(board, MAX):\n",
        "        return 1\n",
        "    elif check_win(board, MIN):\n",
        "        return -1\n",
        "    elif all(all(cell != EMPTY for cell in row) for row in board):\n",
        "        return 0\n",
        "\n",
        "    if player == MAX:\n",
        "        value = float('-inf')\n",
        "        for move in generate_moves(board, player):\n",
        "            value = max(value, minimax(move, MIN))\n",
        "        return value\n",
        "    else:\n",
        "        value = float('inf')\n",
        "        for move in generate_moves(board, player):\n",
        "            value = min(value, minimax(move, MAX))\n",
        "        return value\n"
      ]
    },
    {
      "cell_type": "code",
      "execution_count": 5,
      "metadata": {
        "colab": {
          "base_uri": "https://localhost:8080/"
        },
        "id": "8VSGzKejyGg_",
        "outputId": "d1c4381e-c452-4c56-9907-822e87d04164"
      },
      "outputs": [
        {
          "name": "stdout",
          "output_type": "stream",
          "text": [
            "States are saved to 'state_values.json'\n"
          ]
        }
      ],
      "source": [
        "start = [[EMPTY] * 3 for _ in range(3)]\n",
        "\n",
        "# Storing tree states\n",
        "state_values = {}\n",
        "\n",
        "def generate_tree(board, player):\n",
        "    if check_win(board, MAX) or check_win(board, MIN) or all(all(cell != EMPTY for cell in row) for row in board):\n",
        "        return\n",
        "    moves = generate_moves(board, player)\n",
        "    for move in moves:\n",
        "        value = minimax(move, player)\n",
        "        state_values[str(move)] = value\n",
        "        generate_tree(move, MIN if player == MAX else MAX)\n",
        "\n",
        "# Generate a tree starting with max's turn\n",
        "generate_tree(start, MAX)\n",
        "\n",
        "# Saving in json\n",
        "with open('state_values.json', 'w') as file:\n",
        "    json.dump(state_values, file)\n",
        "\n",
        "print(\"States are saved to 'state_values.json'\")\n"
      ]
    },
    {
      "cell_type": "code",
      "execution_count": null,
      "metadata": {
        "colab": {
          "base_uri": "https://localhost:8080/"
        },
        "id": "qutsTPYQ2FbM",
        "outputId": "e53c5646-3ab8-428b-ed2e-c36dd6f9070c"
      },
      "outputs": [],
      "source": [
        "# Initial state at the starting\n",
        "current_state = [[EMPTY] * 3 for _ in range(3)]\n",
        "\n",
        "# Player vs Player gameplay\n",
        "while True:\n",
        "    print_board(current_state)\n",
        "    input_values = input(\"Enter your move (row(0,1,2) and column(0,1,2)): \").split()\n",
        "    row, col = int(input_values[0]), int(input_values[1])\n",
        "    if not(0<=row<=2) or not(0<=col<=2):\n",
        "      print(\"Please enter a valid move from row(0,1,2) and col(0,1,2)\")\n",
        "      break\n",
        "    if current_state[row][col] != EMPTY:\n",
        "        print(\"Invalid move. Try again.\")\n",
        "        continue\n",
        "    current_state[row][col] = MAX\n",
        "\n",
        "    if check_win(current_state, MAX):\n",
        "        print(\"Player X wins!\")\n",
        "        break\n",
        "    elif all(all(cell != EMPTY for cell in row) for row in current_state):\n",
        "        print(\"It's a draw!\")\n",
        "        break\n",
        "\n",
        "    print_board(current_state)\n",
        "    moves = generate_moves(current_state, MIN)\n",
        "    best_move = None\n",
        "    best_value = float('inf')\n",
        "    for move in moves:\n",
        "        value = minimax(move, MAX)\n",
        "        if value < best_value:\n",
        "            best_value = value\n",
        "            best_move = move\n",
        "    current_state = best_move\n",
        "\n",
        "    if check_win(current_state, MIN):\n",
        "        print(\"Player O wins!\")\n",
        "\n",
        "        break\n",
        "    elif all(all(cell != EMPTY for cell in row) for row in current_state):\n",
        "        print(\"It's a draw!\")\n",
        "        break\n",
        "\n"
      ]
    },
    {
      "cell_type": "code",
      "execution_count": null,
      "metadata": {
        "colab": {
          "base_uri": "https://localhost:8080/"
        },
        "id": "7053Sa01Hkda",
        "outputId": "ddb6c59f-5361-4d36-a0ac-2ebd09859801"
      },
      "outputs": [
        {
          "name": "stdout",
          "output_type": "stream",
          "text": [
            "5477\n"
          ]
        }
      ],
      "source": [
        "import json\n",
        "\n",
        "with open('/content/state_values.json', 'r') as file:\n",
        "    t = json.load(file)\n",
        "    print(len(t))\n"
      ]
    }
  ],
  "metadata": {
    "colab": {
      "provenance": []
    },
    "kernelspec": {
      "display_name": "Python 3",
      "name": "python3"
    },
    "language_info": {
      "codemirror_mode": {
        "name": "ipython",
        "version": 3
      },
      "file_extension": ".py",
      "mimetype": "text/x-python",
      "name": "python",
      "nbconvert_exporter": "python",
      "pygments_lexer": "ipython3",
      "version": "3.10.12"
    }
  },
  "nbformat": 4,
  "nbformat_minor": 0
}
